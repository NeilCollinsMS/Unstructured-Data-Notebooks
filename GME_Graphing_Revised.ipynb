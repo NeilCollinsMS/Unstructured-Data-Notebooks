{
  "nbformat": 4,
  "nbformat_minor": 0,
  "metadata": {
    "colab": {
      "name": "GME Graphing Revised.ipynb",
      "provenance": [],
      "authorship_tag": "ABX9TyOJmOv/ggLM77cZz2ILCTEa",
      "include_colab_link": true
    },
    "kernelspec": {
      "name": "python3",
      "display_name": "Python 3"
    },
    "language_info": {
      "name": "python"
    }
  },
  "cells": [
    {
      "cell_type": "markdown",
      "metadata": {
        "id": "view-in-github",
        "colab_type": "text"
      },
      "source": [
        "<a href=\"https://colab.research.google.com/github/NeilCollinsMS/Unstructured-Data-Notebooks/blob/main/GME_Graphing_Revised.ipynb\" target=\"_parent\"><img src=\"https://colab.research.google.com/assets/colab-badge.svg\" alt=\"Open In Colab\"/></a>"
      ]
    },
    {
      "cell_type": "markdown",
      "metadata": {
        "id": "aBgTbQUR9gXZ"
      },
      "source": [
        "**GME Graphing for Unstructured**"
      ]
    },
    {
      "cell_type": "code",
      "metadata": {
        "id": "ArC9z6Xwg5uj",
        "colab": {
          "base_uri": "https://localhost:8080/"
        },
        "outputId": "76aeea67-fb3e-4245-c363-55f08b66d490"
      },
      "source": [
        "# Loading in libraries \n",
        "\n",
        "from google.colab import drive\n",
        "from google.colab import files\n",
        "import os\n",
        "import pandas as pd\n",
        "import numpy as np\n",
        "%matplotlib inline\n",
        "import matplotlib.pyplot as plt\n",
        "import janitor\n",
        "import seaborn as sns\n",
        "import scipy.stats as stats\n",
        "import statsmodels.api as sm"
      ],
      "execution_count": 242,
      "outputs": [
        {
          "output_type": "stream",
          "text": [
            "/usr/local/lib/python3.7/dist-packages/statsmodels/tools/_testing.py:19: FutureWarning: pandas.util.testing is deprecated. Use the functions in the public API at pandas.testing instead.\n",
            "  import pandas.util.testing as tm\n"
          ],
          "name": "stderr"
        }
      ]
    },
    {
      "cell_type": "code",
      "metadata": {
        "colab": {
          "base_uri": "https://localhost:8080/"
        },
        "id": "m9ttMb-AjDRd",
        "outputId": "0f35ff8c-042d-4f0e-ccf0-16248cdf2982"
      },
      "source": [
        "# Uncomment and run if pyjanitor is not preinstalled\n",
        "\n",
        "# pip install pyjanitor"
      ],
      "execution_count": null,
      "outputs": [
        {
          "output_type": "stream",
          "text": [
            "Collecting pyjanitor\n",
            "\u001b[?25l  Downloading https://files.pythonhosted.org/packages/b6/4d/db509008e3bd5292fcc3c9c7cb256063a4bf9567388c9fc19314eec79b4f/pyjanitor-0.20.14-py3-none-any.whl (96kB)\n",
            "\u001b[K     |████████████████████████████████| 102kB 4.3MB/s \n",
            "\u001b[?25hRequirement already satisfied: scikit-learn in /usr/local/lib/python3.7/dist-packages (from pyjanitor) (0.22.2.post1)\n",
            "Collecting pandas-flavor\n",
            "  Downloading https://files.pythonhosted.org/packages/9a/57/7fbcff4c0961ed190ac5fcb0bd8194152ee1ee6487edf64fdbae16e2bc4b/pandas_flavor-0.2.0-py2.py3-none-any.whl\n",
            "Requirement already satisfied: natsort in /usr/local/lib/python3.7/dist-packages (from pyjanitor) (5.5.0)\n",
            "Collecting multipledispatch\n",
            "  Downloading https://files.pythonhosted.org/packages/89/79/429ecef45fd5e4504f7474d4c3c3c4668c267be3370e4c2fd33e61506833/multipledispatch-0.6.0-py3-none-any.whl\n",
            "Requirement already satisfied: numpy>=1.11.0 in /usr/local/lib/python3.7/dist-packages (from scikit-learn->pyjanitor) (1.19.5)\n",
            "Requirement already satisfied: joblib>=0.11 in /usr/local/lib/python3.7/dist-packages (from scikit-learn->pyjanitor) (1.0.1)\n",
            "Requirement already satisfied: scipy>=0.17.0 in /usr/local/lib/python3.7/dist-packages (from scikit-learn->pyjanitor) (1.4.1)\n",
            "Requirement already satisfied: xarray in /usr/local/lib/python3.7/dist-packages (from pandas-flavor->pyjanitor) (0.15.1)\n",
            "Requirement already satisfied: pandas in /usr/local/lib/python3.7/dist-packages (from pandas-flavor->pyjanitor) (1.1.5)\n",
            "Requirement already satisfied: six in /usr/local/lib/python3.7/dist-packages (from multipledispatch->pyjanitor) (1.15.0)\n",
            "Requirement already satisfied: setuptools>=41.2 in /usr/local/lib/python3.7/dist-packages (from xarray->pandas-flavor->pyjanitor) (54.2.0)\n",
            "Requirement already satisfied: python-dateutil>=2.7.3 in /usr/local/lib/python3.7/dist-packages (from pandas->pandas-flavor->pyjanitor) (2.8.1)\n",
            "Requirement already satisfied: pytz>=2017.2 in /usr/local/lib/python3.7/dist-packages (from pandas->pandas-flavor->pyjanitor) (2018.9)\n",
            "Installing collected packages: pandas-flavor, multipledispatch, pyjanitor\n",
            "Successfully installed multipledispatch-0.6.0 pandas-flavor-0.2.0 pyjanitor-0.20.14\n"
          ],
          "name": "stdout"
        }
      ]
    },
    {
      "cell_type": "code",
      "metadata": {
        "colab": {
          "base_uri": "https://localhost:8080/"
        },
        "id": "qva01o-2hEQU",
        "outputId": "034c9951-48ea-4214-f8f7-9150a4006eea"
      },
      "source": [
        "# Mounting drive for easy data access\n",
        "\n",
        "drive.mount('/content/drive')"
      ],
      "execution_count": null,
      "outputs": [
        {
          "output_type": "stream",
          "text": [
            "Mounted at /content/drive\n"
          ],
          "name": "stdout"
        }
      ]
    },
    {
      "cell_type": "code",
      "metadata": {
        "id": "1tziVsDWhNPP"
      },
      "source": [
        "# Set working directory \n",
        "\n",
        "os.chdir(\"drive/My Drive\")"
      ],
      "execution_count": null,
      "outputs": []
    },
    {
      "cell_type": "code",
      "metadata": {
        "colab": {
          "base_uri": "https://localhost:8080/",
          "height": 35
        },
        "id": "eKrsFSWWhPxt",
        "outputId": "6e1e1516-40a7-44e5-e67b-d64c9e115998"
      },
      "source": [
        "# Check working directory\n",
        "\n",
        "os.getcwd()"
      ],
      "execution_count": 64,
      "outputs": [
        {
          "output_type": "execute_result",
          "data": {
            "application/vnd.google.colaboratory.intrinsic+json": {
              "type": "string"
            },
            "text/plain": [
              "'/content/drive/My Drive'"
            ]
          },
          "metadata": {
            "tags": []
          },
          "execution_count": 64
        }
      ]
    },
    {
      "cell_type": "markdown",
      "metadata": {
        "id": "65o7ZECXhzqm"
      },
      "source": [
        "**Part 1: Prepping r/GME Data**"
      ]
    },
    {
      "cell_type": "code",
      "metadata": {
        "id": "vewZAuA7hSXD"
      },
      "source": [
        "# Reading r/GME data into pandas dataframe\n",
        "\n",
        "gme = pd.read_csv('gme_final.csv', error_bad_lines=False, index_col=False, dtype='unicode')"
      ],
      "execution_count": null,
      "outputs": []
    },
    {
      "cell_type": "code",
      "metadata": {
        "colab": {
          "base_uri": "https://localhost:8080/",
          "height": 189
        },
        "id": "1Dcg8hOyhdyN",
        "outputId": "8dfccad5-6917-42db-cb85-38a634023542"
      },
      "source": [
        "# Checking data head\n",
        "\n",
        "gme.head()"
      ],
      "execution_count": null,
      "outputs": [
        {
          "output_type": "execute_result",
          "data": {
            "text/html": [
              "<div>\n",
              "<style scoped>\n",
              "    .dataframe tbody tr th:only-of-type {\n",
              "        vertical-align: middle;\n",
              "    }\n",
              "\n",
              "    .dataframe tbody tr th {\n",
              "        vertical-align: top;\n",
              "    }\n",
              "\n",
              "    .dataframe thead th {\n",
              "        text-align: right;\n",
              "    }\n",
              "</style>\n",
              "<table border=\"1\" class=\"dataframe\">\n",
              "  <thead>\n",
              "    <tr style=\"text-align: right;\">\n",
              "      <th></th>\n",
              "      <th>Post ID</th>\n",
              "      <th>Title</th>\n",
              "      <th>selftext</th>\n",
              "      <th>Url</th>\n",
              "      <th>Author</th>\n",
              "      <th>Score</th>\n",
              "      <th>Publish Date</th>\n",
              "      <th>Total No. of Comments</th>\n",
              "      <th>Permalink</th>\n",
              "      <th>Flair</th>\n",
              "    </tr>\n",
              "  </thead>\n",
              "  <tbody>\n",
              "    <tr>\n",
              "      <th>0</th>\n",
              "      <td>jly48t</td>\n",
              "      <td>Soon enough gang 🚀</td>\n",
              "      <td>[deleted]</td>\n",
              "      <td>https://i.redd.it/4jjfkjb9skw51.jpg</td>\n",
              "      <td>[deleted]</td>\n",
              "      <td>1</td>\n",
              "      <td>2020-11-01 06:48:22</td>\n",
              "      <td>0</td>\n",
              "      <td>/r/GME/comments/jly48t/soon_enough_gang/</td>\n",
              "      <td>NaN</td>\n",
              "    </tr>\n",
              "    <tr>\n",
              "      <th>1</th>\n",
              "      <td>jly4ex</td>\n",
              "      <td>Soon enough gang 🚀</td>\n",
              "      <td>NaN</td>\n",
              "      <td>https://i.redd.it/helqwkjcskw51.jpg</td>\n",
              "      <td>IsaacPG</td>\n",
              "      <td>1</td>\n",
              "      <td>2020-11-01 06:48:52</td>\n",
              "      <td>3</td>\n",
              "      <td>/r/GME/comments/jly4ex/soon_enough_gang/</td>\n",
              "      <td>NaN</td>\n",
              "    </tr>\n",
              "    <tr>\n",
              "      <th>2</th>\n",
              "      <td>jmeywl</td>\n",
              "      <td>Thoughts on future?</td>\n",
              "      <td>I know we may have a small following on this s...</td>\n",
              "      <td>https://www.reddit.com/r/GME/comments/jmeywl/t...</td>\n",
              "      <td>BigDollaDreamer</td>\n",
              "      <td>1</td>\n",
              "      <td>2020-11-02 02:05:37</td>\n",
              "      <td>6</td>\n",
              "      <td>/r/GME/comments/jmeywl/thoughts_on_future/</td>\n",
              "      <td>NaN</td>\n",
              "    </tr>\n",
              "    <tr>\n",
              "      <th>3</th>\n",
              "      <td>jvws72</td>\n",
              "      <td>New development from RC</td>\n",
              "      <td>NaN</td>\n",
              "      <td>/r/wallstreetbets/comments/jviqn2/gme_wsj_excl...</td>\n",
              "      <td>leoschen</td>\n",
              "      <td>1</td>\n",
              "      <td>2020-11-17 17:08:35</td>\n",
              "      <td>5</td>\n",
              "      <td>/r/GME/comments/jvws72/new_development_from_rc/</td>\n",
              "      <td>NaN</td>\n",
              "    </tr>\n",
              "    <tr>\n",
              "      <th>4</th>\n",
              "      <td>k22bhg</td>\n",
              "      <td>Rise and Grind</td>\n",
              "      <td>🌝</td>\n",
              "      <td>https://www.reddit.com/r/GME/comments/k22bhg/r...</td>\n",
              "      <td>BigDollaDreamer</td>\n",
              "      <td>1</td>\n",
              "      <td>2020-11-27 14:43:42</td>\n",
              "      <td>0</td>\n",
              "      <td>/r/GME/comments/k22bhg/rise_and_grind/</td>\n",
              "      <td>NaN</td>\n",
              "    </tr>\n",
              "  </tbody>\n",
              "</table>\n",
              "</div>"
            ],
            "text/plain": [
              "  Post ID  ... Flair\n",
              "0  jly48t  ...   NaN\n",
              "1  jly4ex  ...   NaN\n",
              "2  jmeywl  ...   NaN\n",
              "3  jvws72  ...   NaN\n",
              "4  k22bhg  ...   NaN\n",
              "\n",
              "[5 rows x 10 columns]"
            ]
          },
          "metadata": {
            "tags": []
          },
          "execution_count": 6
        }
      ]
    },
    {
      "cell_type": "code",
      "metadata": {
        "id": "Xr8GEOSEh3aQ"
      },
      "source": [
        "# 'Date' is an easier feature name than Publish Date to work with\n",
        "\n",
        "gme['Date'] = gme['Publish Date']"
      ],
      "execution_count": null,
      "outputs": []
    },
    {
      "cell_type": "code",
      "metadata": {
        "colab": {
          "base_uri": "https://localhost:8080/",
          "height": 189
        },
        "id": "fm7EQb2bh8hb",
        "outputId": "30386d0c-5712-482d-e616-439e4fa9a8ec"
      },
      "source": [
        "gme.head()"
      ],
      "execution_count": null,
      "outputs": [
        {
          "output_type": "execute_result",
          "data": {
            "text/html": [
              "<div>\n",
              "<style scoped>\n",
              "    .dataframe tbody tr th:only-of-type {\n",
              "        vertical-align: middle;\n",
              "    }\n",
              "\n",
              "    .dataframe tbody tr th {\n",
              "        vertical-align: top;\n",
              "    }\n",
              "\n",
              "    .dataframe thead th {\n",
              "        text-align: right;\n",
              "    }\n",
              "</style>\n",
              "<table border=\"1\" class=\"dataframe\">\n",
              "  <thead>\n",
              "    <tr style=\"text-align: right;\">\n",
              "      <th></th>\n",
              "      <th>Post ID</th>\n",
              "      <th>Title</th>\n",
              "      <th>selftext</th>\n",
              "      <th>Url</th>\n",
              "      <th>Author</th>\n",
              "      <th>Score</th>\n",
              "      <th>Publish Date</th>\n",
              "      <th>Total No. of Comments</th>\n",
              "      <th>Permalink</th>\n",
              "      <th>Flair</th>\n",
              "      <th>Date</th>\n",
              "    </tr>\n",
              "  </thead>\n",
              "  <tbody>\n",
              "    <tr>\n",
              "      <th>0</th>\n",
              "      <td>jly48t</td>\n",
              "      <td>Soon enough gang 🚀</td>\n",
              "      <td>[deleted]</td>\n",
              "      <td>https://i.redd.it/4jjfkjb9skw51.jpg</td>\n",
              "      <td>[deleted]</td>\n",
              "      <td>1</td>\n",
              "      <td>2020-11-01 06:48:22</td>\n",
              "      <td>0</td>\n",
              "      <td>/r/GME/comments/jly48t/soon_enough_gang/</td>\n",
              "      <td>NaN</td>\n",
              "      <td>2020-11-01 06:48:22</td>\n",
              "    </tr>\n",
              "    <tr>\n",
              "      <th>1</th>\n",
              "      <td>jly4ex</td>\n",
              "      <td>Soon enough gang 🚀</td>\n",
              "      <td>NaN</td>\n",
              "      <td>https://i.redd.it/helqwkjcskw51.jpg</td>\n",
              "      <td>IsaacPG</td>\n",
              "      <td>1</td>\n",
              "      <td>2020-11-01 06:48:52</td>\n",
              "      <td>3</td>\n",
              "      <td>/r/GME/comments/jly4ex/soon_enough_gang/</td>\n",
              "      <td>NaN</td>\n",
              "      <td>2020-11-01 06:48:52</td>\n",
              "    </tr>\n",
              "    <tr>\n",
              "      <th>2</th>\n",
              "      <td>jmeywl</td>\n",
              "      <td>Thoughts on future?</td>\n",
              "      <td>I know we may have a small following on this s...</td>\n",
              "      <td>https://www.reddit.com/r/GME/comments/jmeywl/t...</td>\n",
              "      <td>BigDollaDreamer</td>\n",
              "      <td>1</td>\n",
              "      <td>2020-11-02 02:05:37</td>\n",
              "      <td>6</td>\n",
              "      <td>/r/GME/comments/jmeywl/thoughts_on_future/</td>\n",
              "      <td>NaN</td>\n",
              "      <td>2020-11-02 02:05:37</td>\n",
              "    </tr>\n",
              "    <tr>\n",
              "      <th>3</th>\n",
              "      <td>jvws72</td>\n",
              "      <td>New development from RC</td>\n",
              "      <td>NaN</td>\n",
              "      <td>/r/wallstreetbets/comments/jviqn2/gme_wsj_excl...</td>\n",
              "      <td>leoschen</td>\n",
              "      <td>1</td>\n",
              "      <td>2020-11-17 17:08:35</td>\n",
              "      <td>5</td>\n",
              "      <td>/r/GME/comments/jvws72/new_development_from_rc/</td>\n",
              "      <td>NaN</td>\n",
              "      <td>2020-11-17 17:08:35</td>\n",
              "    </tr>\n",
              "    <tr>\n",
              "      <th>4</th>\n",
              "      <td>k22bhg</td>\n",
              "      <td>Rise and Grind</td>\n",
              "      <td>🌝</td>\n",
              "      <td>https://www.reddit.com/r/GME/comments/k22bhg/r...</td>\n",
              "      <td>BigDollaDreamer</td>\n",
              "      <td>1</td>\n",
              "      <td>2020-11-27 14:43:42</td>\n",
              "      <td>0</td>\n",
              "      <td>/r/GME/comments/k22bhg/rise_and_grind/</td>\n",
              "      <td>NaN</td>\n",
              "      <td>2020-11-27 14:43:42</td>\n",
              "    </tr>\n",
              "  </tbody>\n",
              "</table>\n",
              "</div>"
            ],
            "text/plain": [
              "  Post ID                    Title  ... Flair                 Date\n",
              "0  jly48t       Soon enough gang 🚀  ...   NaN  2020-11-01 06:48:22\n",
              "1  jly4ex       Soon enough gang 🚀  ...   NaN  2020-11-01 06:48:52\n",
              "2  jmeywl      Thoughts on future?  ...   NaN  2020-11-02 02:05:37\n",
              "3  jvws72  New development from RC  ...   NaN  2020-11-17 17:08:35\n",
              "4  k22bhg           Rise and Grind  ...   NaN  2020-11-27 14:43:42\n",
              "\n",
              "[5 rows x 11 columns]"
            ]
          },
          "metadata": {
            "tags": []
          },
          "execution_count": 8
        }
      ]
    },
    {
      "cell_type": "code",
      "metadata": {
        "id": "dXdVFCiBibfM"
      },
      "source": [
        "# Fixing date format\n",
        "\n",
        "gme['Date'] = pd.to_datetime(gme.Date).dt.strftime('%Y/%m/%d')"
      ],
      "execution_count": null,
      "outputs": []
    },
    {
      "cell_type": "code",
      "metadata": {
        "id": "hLtc4-5niKIx"
      },
      "source": [
        "# Count of each column grouped by date\n",
        "\n",
        "gmedaily = gme.groupby('Date').count()"
      ],
      "execution_count": null,
      "outputs": []
    },
    {
      "cell_type": "code",
      "metadata": {
        "colab": {
          "base_uri": "https://localhost:8080/",
          "height": 217
        },
        "id": "RBzU3DJDiMxQ",
        "outputId": "0c57eef3-39f7-4541-dabb-22e0f29cbcab"
      },
      "source": [
        "gmedaily.head()"
      ],
      "execution_count": null,
      "outputs": [
        {
          "output_type": "execute_result",
          "data": {
            "text/html": [
              "<div>\n",
              "<style scoped>\n",
              "    .dataframe tbody tr th:only-of-type {\n",
              "        vertical-align: middle;\n",
              "    }\n",
              "\n",
              "    .dataframe tbody tr th {\n",
              "        vertical-align: top;\n",
              "    }\n",
              "\n",
              "    .dataframe thead th {\n",
              "        text-align: right;\n",
              "    }\n",
              "</style>\n",
              "<table border=\"1\" class=\"dataframe\">\n",
              "  <thead>\n",
              "    <tr style=\"text-align: right;\">\n",
              "      <th></th>\n",
              "      <th>Post ID</th>\n",
              "      <th>Title</th>\n",
              "      <th>selftext</th>\n",
              "      <th>Url</th>\n",
              "      <th>Author</th>\n",
              "      <th>Score</th>\n",
              "      <th>Publish Date</th>\n",
              "      <th>Total No. of Comments</th>\n",
              "      <th>Permalink</th>\n",
              "      <th>Flair</th>\n",
              "    </tr>\n",
              "    <tr>\n",
              "      <th>Date</th>\n",
              "      <th></th>\n",
              "      <th></th>\n",
              "      <th></th>\n",
              "      <th></th>\n",
              "      <th></th>\n",
              "      <th></th>\n",
              "      <th></th>\n",
              "      <th></th>\n",
              "      <th></th>\n",
              "      <th></th>\n",
              "    </tr>\n",
              "  </thead>\n",
              "  <tbody>\n",
              "    <tr>\n",
              "      <th>2020/11/01</th>\n",
              "      <td>2</td>\n",
              "      <td>2</td>\n",
              "      <td>1</td>\n",
              "      <td>2</td>\n",
              "      <td>2</td>\n",
              "      <td>2</td>\n",
              "      <td>2</td>\n",
              "      <td>2</td>\n",
              "      <td>2</td>\n",
              "      <td>0</td>\n",
              "    </tr>\n",
              "    <tr>\n",
              "      <th>2020/11/02</th>\n",
              "      <td>1</td>\n",
              "      <td>1</td>\n",
              "      <td>1</td>\n",
              "      <td>1</td>\n",
              "      <td>1</td>\n",
              "      <td>1</td>\n",
              "      <td>1</td>\n",
              "      <td>1</td>\n",
              "      <td>1</td>\n",
              "      <td>0</td>\n",
              "    </tr>\n",
              "    <tr>\n",
              "      <th>2020/11/17</th>\n",
              "      <td>1</td>\n",
              "      <td>1</td>\n",
              "      <td>0</td>\n",
              "      <td>1</td>\n",
              "      <td>1</td>\n",
              "      <td>1</td>\n",
              "      <td>1</td>\n",
              "      <td>1</td>\n",
              "      <td>1</td>\n",
              "      <td>0</td>\n",
              "    </tr>\n",
              "    <tr>\n",
              "      <th>2020/11/27</th>\n",
              "      <td>1</td>\n",
              "      <td>1</td>\n",
              "      <td>1</td>\n",
              "      <td>1</td>\n",
              "      <td>1</td>\n",
              "      <td>1</td>\n",
              "      <td>1</td>\n",
              "      <td>1</td>\n",
              "      <td>1</td>\n",
              "      <td>0</td>\n",
              "    </tr>\n",
              "    <tr>\n",
              "      <th>2020/12/01</th>\n",
              "      <td>2</td>\n",
              "      <td>2</td>\n",
              "      <td>2</td>\n",
              "      <td>2</td>\n",
              "      <td>2</td>\n",
              "      <td>2</td>\n",
              "      <td>2</td>\n",
              "      <td>2</td>\n",
              "      <td>2</td>\n",
              "      <td>0</td>\n",
              "    </tr>\n",
              "  </tbody>\n",
              "</table>\n",
              "</div>"
            ],
            "text/plain": [
              "            Post ID  Title  selftext  ...  Total No. of Comments  Permalink  Flair\n",
              "Date                                  ...                                         \n",
              "2020/11/01        2      2         1  ...                      2          2      0\n",
              "2020/11/02        1      1         1  ...                      1          1      0\n",
              "2020/11/17        1      1         0  ...                      1          1      0\n",
              "2020/11/27        1      1         1  ...                      1          1      0\n",
              "2020/12/01        2      2         2  ...                      2          2      0\n",
              "\n",
              "[5 rows x 10 columns]"
            ]
          },
          "metadata": {
            "tags": []
          },
          "execution_count": 16
        }
      ]
    },
    {
      "cell_type": "code",
      "metadata": {
        "colab": {
          "base_uri": "https://localhost:8080/",
          "height": 217
        },
        "id": "_tR1M5JijTwT",
        "outputId": "d9e675f7-3d16-40e5-ddd2-96ed7626b574"
      },
      "source": [
        "# Observing where r/GME has at least 10 posts per day. This doesn't appear to begin until January, so we will work from January 1st - April 1st 2021.\n",
        "\n",
        "gmedaily[gmedaily['Post ID'] >= 10].dropna().head()"
      ],
      "execution_count": null,
      "outputs": [
        {
          "output_type": "execute_result",
          "data": {
            "text/html": [
              "<div>\n",
              "<style scoped>\n",
              "    .dataframe tbody tr th:only-of-type {\n",
              "        vertical-align: middle;\n",
              "    }\n",
              "\n",
              "    .dataframe tbody tr th {\n",
              "        vertical-align: top;\n",
              "    }\n",
              "\n",
              "    .dataframe thead th {\n",
              "        text-align: right;\n",
              "    }\n",
              "</style>\n",
              "<table border=\"1\" class=\"dataframe\">\n",
              "  <thead>\n",
              "    <tr style=\"text-align: right;\">\n",
              "      <th></th>\n",
              "      <th>Post ID</th>\n",
              "      <th>Title</th>\n",
              "      <th>selftext</th>\n",
              "      <th>Url</th>\n",
              "      <th>Author</th>\n",
              "      <th>Score</th>\n",
              "      <th>Publish Date</th>\n",
              "      <th>Total No. of Comments</th>\n",
              "      <th>Permalink</th>\n",
              "      <th>Flair</th>\n",
              "    </tr>\n",
              "    <tr>\n",
              "      <th>Date</th>\n",
              "      <th></th>\n",
              "      <th></th>\n",
              "      <th></th>\n",
              "      <th></th>\n",
              "      <th></th>\n",
              "      <th></th>\n",
              "      <th></th>\n",
              "      <th></th>\n",
              "      <th></th>\n",
              "      <th></th>\n",
              "    </tr>\n",
              "  </thead>\n",
              "  <tbody>\n",
              "    <tr>\n",
              "      <th>2021/01/14</th>\n",
              "      <td>11</td>\n",
              "      <td>11</td>\n",
              "      <td>8</td>\n",
              "      <td>11</td>\n",
              "      <td>11</td>\n",
              "      <td>11</td>\n",
              "      <td>11</td>\n",
              "      <td>11</td>\n",
              "      <td>11</td>\n",
              "      <td>0</td>\n",
              "    </tr>\n",
              "    <tr>\n",
              "      <th>2021/01/15</th>\n",
              "      <td>15</td>\n",
              "      <td>15</td>\n",
              "      <td>12</td>\n",
              "      <td>15</td>\n",
              "      <td>15</td>\n",
              "      <td>15</td>\n",
              "      <td>15</td>\n",
              "      <td>15</td>\n",
              "      <td>15</td>\n",
              "      <td>0</td>\n",
              "    </tr>\n",
              "    <tr>\n",
              "      <th>2021/01/18</th>\n",
              "      <td>11</td>\n",
              "      <td>11</td>\n",
              "      <td>9</td>\n",
              "      <td>11</td>\n",
              "      <td>11</td>\n",
              "      <td>11</td>\n",
              "      <td>11</td>\n",
              "      <td>11</td>\n",
              "      <td>11</td>\n",
              "      <td>0</td>\n",
              "    </tr>\n",
              "    <tr>\n",
              "      <th>2021/01/19</th>\n",
              "      <td>14</td>\n",
              "      <td>14</td>\n",
              "      <td>8</td>\n",
              "      <td>14</td>\n",
              "      <td>14</td>\n",
              "      <td>14</td>\n",
              "      <td>14</td>\n",
              "      <td>14</td>\n",
              "      <td>14</td>\n",
              "      <td>0</td>\n",
              "    </tr>\n",
              "    <tr>\n",
              "      <th>2021/01/21</th>\n",
              "      <td>18</td>\n",
              "      <td>18</td>\n",
              "      <td>9</td>\n",
              "      <td>18</td>\n",
              "      <td>18</td>\n",
              "      <td>18</td>\n",
              "      <td>18</td>\n",
              "      <td>18</td>\n",
              "      <td>18</td>\n",
              "      <td>0</td>\n",
              "    </tr>\n",
              "  </tbody>\n",
              "</table>\n",
              "</div>"
            ],
            "text/plain": [
              "            Post ID  Title  selftext  ...  Total No. of Comments  Permalink  Flair\n",
              "Date                                  ...                                         \n",
              "2021/01/14       11     11         8  ...                     11         11      0\n",
              "2021/01/15       15     15        12  ...                     15         15      0\n",
              "2021/01/18       11     11         9  ...                     11         11      0\n",
              "2021/01/19       14     14         8  ...                     14         14      0\n",
              "2021/01/21       18     18         9  ...                     18         18      0\n",
              "\n",
              "[5 rows x 10 columns]"
            ]
          },
          "metadata": {
            "tags": []
          },
          "execution_count": 19
        }
      ]
    },
    {
      "cell_type": "markdown",
      "metadata": {
        "id": "0V6S6eBspiUV"
      },
      "source": [
        "NOTE: gme_filtered is necessary for per-word graphs because we have to filter for specific words (later) before grouping by count."
      ]
    },
    {
      "cell_type": "code",
      "metadata": {
        "id": "b3NIltY_jT2K"
      },
      "source": [
        "# Filtering to January 1 - April 1... This is where pyjanitor comes into play (filter_date is a function of janitor)\n",
        "\n",
        "start_date = '2021/01/04'\n",
        "end_date = '2021/04/01'\n",
        "\n",
        "gme_filtered = gme.filter_date('Date', start_date, end_date)"
      ],
      "execution_count": null,
      "outputs": []
    },
    {
      "cell_type": "code",
      "metadata": {
        "colab": {
          "base_uri": "https://localhost:8080/",
          "height": 189
        },
        "id": "BbIFNFJkpf5Y",
        "outputId": "d0b0d885-a212-489f-da14-f44372958aaf"
      },
      "source": [
        "gme_filtered.head()"
      ],
      "execution_count": null,
      "outputs": [
        {
          "output_type": "execute_result",
          "data": {
            "text/html": [
              "<div>\n",
              "<style scoped>\n",
              "    .dataframe tbody tr th:only-of-type {\n",
              "        vertical-align: middle;\n",
              "    }\n",
              "\n",
              "    .dataframe tbody tr th {\n",
              "        vertical-align: top;\n",
              "    }\n",
              "\n",
              "    .dataframe thead th {\n",
              "        text-align: right;\n",
              "    }\n",
              "</style>\n",
              "<table border=\"1\" class=\"dataframe\">\n",
              "  <thead>\n",
              "    <tr style=\"text-align: right;\">\n",
              "      <th></th>\n",
              "      <th>Post ID</th>\n",
              "      <th>Title</th>\n",
              "      <th>selftext</th>\n",
              "      <th>Url</th>\n",
              "      <th>Author</th>\n",
              "      <th>Score</th>\n",
              "      <th>Publish Date</th>\n",
              "      <th>Total No. of Comments</th>\n",
              "      <th>Permalink</th>\n",
              "      <th>Flair</th>\n",
              "      <th>Date</th>\n",
              "    </tr>\n",
              "  </thead>\n",
              "  <tbody>\n",
              "    <tr>\n",
              "      <th>45</th>\n",
              "      <td>kqfajb</td>\n",
              "      <td>You NEED to see this about GME 🚀🚀🚀🚀🚀🚀</td>\n",
              "      <td>After watching this I took a position RIGHT AW...</td>\n",
              "      <td>https://www.reddit.com/r/GME/comments/kqfajb/y...</td>\n",
              "      <td>TitsDownOnly</td>\n",
              "      <td>1</td>\n",
              "      <td>2021-01-04 19:02:26</td>\n",
              "      <td>9</td>\n",
              "      <td>/r/GME/comments/kqfajb/you_need_to_see_this_ab...</td>\n",
              "      <td>NaN</td>\n",
              "      <td>2021-01-04</td>\n",
              "    </tr>\n",
              "    <tr>\n",
              "      <th>46</th>\n",
              "      <td>kqjh2t</td>\n",
              "      <td>Short Squeeze Incoming 🚀🚀🚀🚀🚀🚀🚀</td>\n",
              "      <td>NaN</td>\n",
              "      <td>/r/wallstreetbets/comments/kqcwdo/gamestops_gr...</td>\n",
              "      <td>zoomermoney</td>\n",
              "      <td>1</td>\n",
              "      <td>2021-01-04 22:17:23</td>\n",
              "      <td>1</td>\n",
              "      <td>/r/GME/comments/kqjh2t/short_squeeze_incoming/</td>\n",
              "      <td>NaN</td>\n",
              "      <td>2021-01-04</td>\n",
              "    </tr>\n",
              "    <tr>\n",
              "      <th>47</th>\n",
              "      <td>kqvp7l</td>\n",
              "      <td>THIS CONVINCED ME TO ALL IN 💰GME (EXTREME PUMP...</td>\n",
              "      <td>This guy explained exactly how to take a posit...</td>\n",
              "      <td>https://www.reddit.com/r/GME/comments/kqvp7l/t...</td>\n",
              "      <td>TitsDownOnly</td>\n",
              "      <td>1</td>\n",
              "      <td>2021-01-05 10:19:59</td>\n",
              "      <td>6</td>\n",
              "      <td>/r/GME/comments/kqvp7l/this_convinced_me_to_al...</td>\n",
              "      <td>NaN</td>\n",
              "      <td>2021-01-05</td>\n",
              "    </tr>\n",
              "    <tr>\n",
              "      <th>48</th>\n",
              "      <td>krcwch</td>\n",
              "      <td>You already know what we must do brothers and ...</td>\n",
              "      <td>NaN</td>\n",
              "      <td>/r/wallstreetbets/comments/kr98ym/gme_gang_we_...</td>\n",
              "      <td>dontforgettolive</td>\n",
              "      <td>1</td>\n",
              "      <td>2021-01-06 01:19:17</td>\n",
              "      <td>4</td>\n",
              "      <td>/r/GME/comments/krcwch/you_already_know_what_w...</td>\n",
              "      <td>NaN</td>\n",
              "      <td>2021-01-06</td>\n",
              "    </tr>\n",
              "    <tr>\n",
              "      <th>49</th>\n",
              "      <td>krnthg</td>\n",
              "      <td>ICR conference (11th Jan)</td>\n",
              "      <td>Any speculation or ideas on what Gamestop migh...</td>\n",
              "      <td>https://www.reddit.com/r/GME/comments/krnthg/i...</td>\n",
              "      <td>nicky94</td>\n",
              "      <td>1</td>\n",
              "      <td>2021-01-06 13:25:49</td>\n",
              "      <td>10</td>\n",
              "      <td>/r/GME/comments/krnthg/icr_conference_11th_jan/</td>\n",
              "      <td>NaN</td>\n",
              "      <td>2021-01-06</td>\n",
              "    </tr>\n",
              "  </tbody>\n",
              "</table>\n",
              "</div>"
            ],
            "text/plain": [
              "   Post ID                                              Title  ... Flair       Date\n",
              "45  kqfajb              You NEED to see this about GME 🚀🚀🚀🚀🚀🚀  ...   NaN 2021-01-04\n",
              "46  kqjh2t                     Short Squeeze Incoming 🚀🚀🚀🚀🚀🚀🚀  ...   NaN 2021-01-04\n",
              "47  kqvp7l  THIS CONVINCED ME TO ALL IN 💰GME (EXTREME PUMP...  ...   NaN 2021-01-05\n",
              "48  krcwch  You already know what we must do brothers and ...  ...   NaN 2021-01-06\n",
              "49  krnthg                          ICR conference (11th Jan)  ...   NaN 2021-01-06\n",
              "\n",
              "[5 rows x 11 columns]"
            ]
          },
          "metadata": {
            "tags": []
          },
          "execution_count": 39
        }
      ]
    },
    {
      "cell_type": "code",
      "metadata": {
        "id": "o9HNYQDZkiXF"
      },
      "source": [
        "# Dataframe with counts group by date, filtered to Jan-Apr.\n",
        "\n",
        "gmedaily_filtered = gme_filtered.groupby('Date', as_index= False).count()"
      ],
      "execution_count": null,
      "outputs": []
    },
    {
      "cell_type": "code",
      "metadata": {
        "colab": {
          "base_uri": "https://localhost:8080/",
          "height": 189
        },
        "id": "jT3IMlITlpXt",
        "outputId": "a1dddf97-0a97-40ff-a2ab-160506bd339a"
      },
      "source": [
        "gmedaily_filtered.head()"
      ],
      "execution_count": null,
      "outputs": [
        {
          "output_type": "execute_result",
          "data": {
            "text/html": [
              "<div>\n",
              "<style scoped>\n",
              "    .dataframe tbody tr th:only-of-type {\n",
              "        vertical-align: middle;\n",
              "    }\n",
              "\n",
              "    .dataframe tbody tr th {\n",
              "        vertical-align: top;\n",
              "    }\n",
              "\n",
              "    .dataframe thead th {\n",
              "        text-align: right;\n",
              "    }\n",
              "</style>\n",
              "<table border=\"1\" class=\"dataframe\">\n",
              "  <thead>\n",
              "    <tr style=\"text-align: right;\">\n",
              "      <th></th>\n",
              "      <th>Date</th>\n",
              "      <th>Post ID</th>\n",
              "      <th>Title</th>\n",
              "      <th>selftext</th>\n",
              "      <th>Url</th>\n",
              "      <th>Author</th>\n",
              "      <th>Score</th>\n",
              "      <th>Publish Date</th>\n",
              "      <th>Total No. of Comments</th>\n",
              "      <th>Permalink</th>\n",
              "      <th>Flair</th>\n",
              "    </tr>\n",
              "  </thead>\n",
              "  <tbody>\n",
              "    <tr>\n",
              "      <th>0</th>\n",
              "      <td>2021-01-04</td>\n",
              "      <td>2</td>\n",
              "      <td>2</td>\n",
              "      <td>1</td>\n",
              "      <td>2</td>\n",
              "      <td>2</td>\n",
              "      <td>2</td>\n",
              "      <td>2</td>\n",
              "      <td>2</td>\n",
              "      <td>2</td>\n",
              "      <td>0</td>\n",
              "    </tr>\n",
              "    <tr>\n",
              "      <th>1</th>\n",
              "      <td>2021-01-05</td>\n",
              "      <td>1</td>\n",
              "      <td>1</td>\n",
              "      <td>1</td>\n",
              "      <td>1</td>\n",
              "      <td>1</td>\n",
              "      <td>1</td>\n",
              "      <td>1</td>\n",
              "      <td>1</td>\n",
              "      <td>1</td>\n",
              "      <td>0</td>\n",
              "    </tr>\n",
              "    <tr>\n",
              "      <th>2</th>\n",
              "      <td>2021-01-06</td>\n",
              "      <td>3</td>\n",
              "      <td>3</td>\n",
              "      <td>2</td>\n",
              "      <td>3</td>\n",
              "      <td>3</td>\n",
              "      <td>3</td>\n",
              "      <td>3</td>\n",
              "      <td>3</td>\n",
              "      <td>3</td>\n",
              "      <td>0</td>\n",
              "    </tr>\n",
              "    <tr>\n",
              "      <th>3</th>\n",
              "      <td>2021-01-10</td>\n",
              "      <td>1</td>\n",
              "      <td>1</td>\n",
              "      <td>1</td>\n",
              "      <td>1</td>\n",
              "      <td>1</td>\n",
              "      <td>1</td>\n",
              "      <td>1</td>\n",
              "      <td>1</td>\n",
              "      <td>1</td>\n",
              "      <td>0</td>\n",
              "    </tr>\n",
              "    <tr>\n",
              "      <th>4</th>\n",
              "      <td>2021-01-11</td>\n",
              "      <td>4</td>\n",
              "      <td>4</td>\n",
              "      <td>2</td>\n",
              "      <td>4</td>\n",
              "      <td>4</td>\n",
              "      <td>4</td>\n",
              "      <td>4</td>\n",
              "      <td>4</td>\n",
              "      <td>4</td>\n",
              "      <td>0</td>\n",
              "    </tr>\n",
              "  </tbody>\n",
              "</table>\n",
              "</div>"
            ],
            "text/plain": [
              "        Date  Post ID  Title  ...  Total No. of Comments  Permalink  Flair\n",
              "0 2021-01-04        2      2  ...                      2          2      0\n",
              "1 2021-01-05        1      1  ...                      1          1      0\n",
              "2 2021-01-06        3      3  ...                      3          3      0\n",
              "3 2021-01-10        1      1  ...                      1          1      0\n",
              "4 2021-01-11        4      4  ...                      4          4      0\n",
              "\n",
              "[5 rows x 11 columns]"
            ]
          },
          "metadata": {
            "tags": []
          },
          "execution_count": 60
        }
      ]
    },
    {
      "cell_type": "markdown",
      "metadata": {
        "id": "XV2VRlUFmAFb"
      },
      "source": [
        "**Part 2: Prepping GME Stock Price Data**"
      ]
    },
    {
      "cell_type": "code",
      "metadata": {
        "id": "435V9Um7mFHg"
      },
      "source": [
        "# gmestock.csv was pulled from MarketWatch.com using the date range from January to April 1st. \n",
        "# Rename the import name if you're using one of the other drive folders (e.g. stock_jan_apr.csv)\n",
        "\n",
        "gmestock = pd.read_csv('gmestock.csv', error_bad_lines=False, index_col=False, dtype='unicode')"
      ],
      "execution_count": null,
      "outputs": []
    },
    {
      "cell_type": "code",
      "metadata": {
        "colab": {
          "base_uri": "https://localhost:8080/",
          "height": 189
        },
        "id": "Rr4W4fSvmFPn",
        "outputId": "b7db3fb4-9b0d-4aa8-ad0a-4936a4c5b644"
      },
      "source": [
        "gmestock.tail()"
      ],
      "execution_count": null,
      "outputs": [
        {
          "output_type": "execute_result",
          "data": {
            "text/html": [
              "<div>\n",
              "<style scoped>\n",
              "    .dataframe tbody tr th:only-of-type {\n",
              "        vertical-align: middle;\n",
              "    }\n",
              "\n",
              "    .dataframe tbody tr th {\n",
              "        vertical-align: top;\n",
              "    }\n",
              "\n",
              "    .dataframe thead th {\n",
              "        text-align: right;\n",
              "    }\n",
              "</style>\n",
              "<table border=\"1\" class=\"dataframe\">\n",
              "  <thead>\n",
              "    <tr style=\"text-align: right;\">\n",
              "      <th></th>\n",
              "      <th>Date</th>\n",
              "      <th>Open</th>\n",
              "      <th>High</th>\n",
              "      <th>Low</th>\n",
              "      <th>Close</th>\n",
              "      <th>Volume</th>\n",
              "    </tr>\n",
              "  </thead>\n",
              "  <tbody>\n",
              "    <tr>\n",
              "      <th>57</th>\n",
              "      <td>01/08/2021</td>\n",
              "      <td>18.18</td>\n",
              "      <td>18.30</td>\n",
              "      <td>17.08</td>\n",
              "      <td>17.69</td>\n",
              "      <td>6,481,960</td>\n",
              "    </tr>\n",
              "    <tr>\n",
              "      <th>58</th>\n",
              "      <td>01/07/2021</td>\n",
              "      <td>18.47</td>\n",
              "      <td>19.45</td>\n",
              "      <td>18.02</td>\n",
              "      <td>18.08</td>\n",
              "      <td>6,129,276</td>\n",
              "    </tr>\n",
              "    <tr>\n",
              "      <th>59</th>\n",
              "      <td>01/06/2021</td>\n",
              "      <td>17.34</td>\n",
              "      <td>18.98</td>\n",
              "      <td>17.33</td>\n",
              "      <td>18.36</td>\n",
              "      <td>6,056,248</td>\n",
              "    </tr>\n",
              "    <tr>\n",
              "      <th>60</th>\n",
              "      <td>01/05/2021</td>\n",
              "      <td>17.35</td>\n",
              "      <td>18.08</td>\n",
              "      <td>17.23</td>\n",
              "      <td>17.37</td>\n",
              "      <td>4,961,457</td>\n",
              "    </tr>\n",
              "    <tr>\n",
              "      <th>61</th>\n",
              "      <td>01/04/2021</td>\n",
              "      <td>19.00</td>\n",
              "      <td>19.10</td>\n",
              "      <td>17.15</td>\n",
              "      <td>17.25</td>\n",
              "      <td>10,022,470</td>\n",
              "    </tr>\n",
              "  </tbody>\n",
              "</table>\n",
              "</div>"
            ],
            "text/plain": [
              "          Date   Open   High    Low  Close      Volume\n",
              "57  01/08/2021  18.18  18.30  17.08  17.69   6,481,960\n",
              "58  01/07/2021  18.47  19.45  18.02  18.08   6,129,276\n",
              "59  01/06/2021  17.34  18.98  17.33  18.36   6,056,248\n",
              "60  01/05/2021  17.35  18.08  17.23  17.37   4,961,457\n",
              "61  01/04/2021  19.00  19.10  17.15  17.25  10,022,470"
            ]
          },
          "metadata": {
            "tags": []
          },
          "execution_count": 48
        }
      ]
    },
    {
      "cell_type": "code",
      "metadata": {
        "colab": {
          "base_uri": "https://localhost:8080/"
        },
        "id": "IL-8Er4Um6pm",
        "outputId": "44f9dd4a-9766-4cd8-9d13-97e56a231f18"
      },
      "source": [
        "# Checking datatypes to ensure Date is in the DateTime format and the values are numeric\n",
        "\n",
        "gmestock.dtypes"
      ],
      "execution_count": null,
      "outputs": [
        {
          "output_type": "execute_result",
          "data": {
            "text/plain": [
              "Date      object\n",
              "Open      object\n",
              "High      object\n",
              "Low       object\n",
              "Close     object\n",
              "Volume    object\n",
              "dtype: object"
            ]
          },
          "metadata": {
            "tags": []
          },
          "execution_count": 49
        }
      ]
    },
    {
      "cell_type": "code",
      "metadata": {
        "id": "dNFlfavInkH1"
      },
      "source": [
        "# Coercing proper data types. Close will be utilized for graphing, so it will be coerced.\n",
        "\n",
        "gmestock['Date'] = gmestock['Date'].apply(pd.to_datetime, errors='coerce')\n",
        "gmestock['Close'] = gmestock['Close'].apply(pd.to_numeric, errors='coerce')"
      ],
      "execution_count": null,
      "outputs": []
    },
    {
      "cell_type": "code",
      "metadata": {
        "colab": {
          "base_uri": "https://localhost:8080/"
        },
        "id": "x834JMQgn3u7",
        "outputId": "a44fef23-79dd-4eb2-fc6f-f922b321c447"
      },
      "source": [
        "gmestock.dtypes"
      ],
      "execution_count": null,
      "outputs": [
        {
          "output_type": "execute_result",
          "data": {
            "text/plain": [
              "Date      datetime64[ns]\n",
              "Open              object\n",
              "High              object\n",
              "Low               object\n",
              "Close            float64\n",
              "Volume            object\n",
              "dtype: object"
            ]
          },
          "metadata": {
            "tags": []
          },
          "execution_count": 51
        }
      ]
    },
    {
      "cell_type": "code",
      "metadata": {
        "id": "x9ALsniUn_b0"
      },
      "source": [
        "# MarketWatch uploads their data in reverse order, which can cause matplotlib to graph it backwards. To deal with this, we are reversing gmestock's index.\n",
        "\n",
        "gmestock = gmestock.reindex(index=gmestock.index[::-1])"
      ],
      "execution_count": null,
      "outputs": []
    },
    {
      "cell_type": "code",
      "metadata": {
        "colab": {
          "base_uri": "https://localhost:8080/",
          "height": 189
        },
        "id": "1AUohaXeoRbU",
        "outputId": "9c02c783-a802-488d-899f-0be696820918"
      },
      "source": [
        "gmestock.head()"
      ],
      "execution_count": null,
      "outputs": [
        {
          "output_type": "execute_result",
          "data": {
            "text/html": [
              "<div>\n",
              "<style scoped>\n",
              "    .dataframe tbody tr th:only-of-type {\n",
              "        vertical-align: middle;\n",
              "    }\n",
              "\n",
              "    .dataframe tbody tr th {\n",
              "        vertical-align: top;\n",
              "    }\n",
              "\n",
              "    .dataframe thead th {\n",
              "        text-align: right;\n",
              "    }\n",
              "</style>\n",
              "<table border=\"1\" class=\"dataframe\">\n",
              "  <thead>\n",
              "    <tr style=\"text-align: right;\">\n",
              "      <th></th>\n",
              "      <th>Date</th>\n",
              "      <th>Open</th>\n",
              "      <th>High</th>\n",
              "      <th>Low</th>\n",
              "      <th>Close</th>\n",
              "      <th>Volume</th>\n",
              "    </tr>\n",
              "  </thead>\n",
              "  <tbody>\n",
              "    <tr>\n",
              "      <th>61</th>\n",
              "      <td>2021-01-04</td>\n",
              "      <td>19.00</td>\n",
              "      <td>19.10</td>\n",
              "      <td>17.15</td>\n",
              "      <td>17.25</td>\n",
              "      <td>10,022,470</td>\n",
              "    </tr>\n",
              "    <tr>\n",
              "      <th>60</th>\n",
              "      <td>2021-01-05</td>\n",
              "      <td>17.35</td>\n",
              "      <td>18.08</td>\n",
              "      <td>17.23</td>\n",
              "      <td>17.37</td>\n",
              "      <td>4,961,457</td>\n",
              "    </tr>\n",
              "    <tr>\n",
              "      <th>59</th>\n",
              "      <td>2021-01-06</td>\n",
              "      <td>17.34</td>\n",
              "      <td>18.98</td>\n",
              "      <td>17.33</td>\n",
              "      <td>18.36</td>\n",
              "      <td>6,056,248</td>\n",
              "    </tr>\n",
              "    <tr>\n",
              "      <th>58</th>\n",
              "      <td>2021-01-07</td>\n",
              "      <td>18.47</td>\n",
              "      <td>19.45</td>\n",
              "      <td>18.02</td>\n",
              "      <td>18.08</td>\n",
              "      <td>6,129,276</td>\n",
              "    </tr>\n",
              "    <tr>\n",
              "      <th>57</th>\n",
              "      <td>2021-01-08</td>\n",
              "      <td>18.18</td>\n",
              "      <td>18.30</td>\n",
              "      <td>17.08</td>\n",
              "      <td>17.69</td>\n",
              "      <td>6,481,960</td>\n",
              "    </tr>\n",
              "  </tbody>\n",
              "</table>\n",
              "</div>"
            ],
            "text/plain": [
              "         Date   Open   High    Low  Close      Volume\n",
              "61 2021-01-04  19.00  19.10  17.15  17.25  10,022,470\n",
              "60 2021-01-05  17.35  18.08  17.23  17.37   4,961,457\n",
              "59 2021-01-06  17.34  18.98  17.33  18.36   6,056,248\n",
              "58 2021-01-07  18.47  19.45  18.02  18.08   6,129,276\n",
              "57 2021-01-08  18.18  18.30  17.08  17.69   6,481,960"
            ]
          },
          "metadata": {
            "tags": []
          },
          "execution_count": 54
        }
      ]
    },
    {
      "cell_type": "markdown",
      "metadata": {
        "id": "7_KeYxKRoaZQ"
      },
      "source": [
        "**Generating the Count(Dip) vs GME Close Price Graph**"
      ]
    },
    {
      "cell_type": "code",
      "metadata": {
        "id": "PTQ2hvHloUHa"
      },
      "source": [
        "# Filtering the gmedaily_filtered dataframe to only include titles with the word \"Dip\"\n",
        "\n",
        "cols_list = ['Title'] # Target Columns\n",
        "search_values = ['dip'] # Target Word(s)\n",
        "\n",
        "gme_filtered_dip = gme_filtered[gme_filtered[cols_list].stack().str.contains('|'.join(search_values),case=False,na=False).any(level=0)]"
      ],
      "execution_count": null,
      "outputs": []
    },
    {
      "cell_type": "code",
      "metadata": {
        "colab": {
          "base_uri": "https://localhost:8080/",
          "height": 189
        },
        "id": "qU4jr1aXo5V4",
        "outputId": "f55ce7a8-f373-474e-9941-24110a24c927"
      },
      "source": [
        "gme_filtered_dip.head()"
      ],
      "execution_count": null,
      "outputs": [
        {
          "output_type": "execute_result",
          "data": {
            "text/html": [
              "<div>\n",
              "<style scoped>\n",
              "    .dataframe tbody tr th:only-of-type {\n",
              "        vertical-align: middle;\n",
              "    }\n",
              "\n",
              "    .dataframe tbody tr th {\n",
              "        vertical-align: top;\n",
              "    }\n",
              "\n",
              "    .dataframe thead th {\n",
              "        text-align: right;\n",
              "    }\n",
              "</style>\n",
              "<table border=\"1\" class=\"dataframe\">\n",
              "  <thead>\n",
              "    <tr style=\"text-align: right;\">\n",
              "      <th></th>\n",
              "      <th>Post ID</th>\n",
              "      <th>Title</th>\n",
              "      <th>selftext</th>\n",
              "      <th>Url</th>\n",
              "      <th>Author</th>\n",
              "      <th>Score</th>\n",
              "      <th>Publish Date</th>\n",
              "      <th>Total No. of Comments</th>\n",
              "      <th>Permalink</th>\n",
              "      <th>Flair</th>\n",
              "      <th>Date</th>\n",
              "    </tr>\n",
              "  </thead>\n",
              "  <tbody>\n",
              "    <tr>\n",
              "      <th>65</th>\n",
              "      <td>kwlfc0</td>\n",
              "      <td>WTF is this dip to punish people who jump on l...</td>\n",
              "      <td>[deleted]</td>\n",
              "      <td>https://v.redd.it/xwe3xfd6y4b61</td>\n",
              "      <td>[deleted]</td>\n",
              "      <td>1</td>\n",
              "      <td>2021-01-13 17:36:13</td>\n",
              "      <td>0</td>\n",
              "      <td>/r/GME/comments/kwlfc0/wtf_is_this_dip_to_puni...</td>\n",
              "      <td>NaN</td>\n",
              "      <td>2021-01-13</td>\n",
              "    </tr>\n",
              "    <tr>\n",
              "      <th>82</th>\n",
              "      <td>kxwgmq</td>\n",
              "      <td>GME Keep dipping and someone sold 810k shares</td>\n",
              "      <td>https://www.google.com/amp/s/seekingalpha.com/...</td>\n",
              "      <td>https://www.reddit.com/r/GME/comments/kxwgmq/g...</td>\n",
              "      <td>Snafflepagus</td>\n",
              "      <td>0</td>\n",
              "      <td>2021-01-15 15:13:52</td>\n",
              "      <td>13</td>\n",
              "      <td>/r/GME/comments/kxwgmq/gme_keep_dipping_and_so...</td>\n",
              "      <td>NaN</td>\n",
              "      <td>2021-01-15</td>\n",
              "    </tr>\n",
              "    <tr>\n",
              "      <th>83</th>\n",
              "      <td>kxwm8k</td>\n",
              "      <td>DIP BABY DIP. DIP! DIP! DIP!</td>\n",
              "      <td>GME should go down...... to the original price...</td>\n",
              "      <td>https://www.reddit.com/r/GME/comments/kxwm8k/d...</td>\n",
              "      <td>Snafflepagus</td>\n",
              "      <td>0</td>\n",
              "      <td>2021-01-15 15:22:03</td>\n",
              "      <td>7</td>\n",
              "      <td>/r/GME/comments/kxwm8k/dip_baby_dip_dip_dip_dip/</td>\n",
              "      <td>NaN</td>\n",
              "      <td>2021-01-15</td>\n",
              "    </tr>\n",
              "    <tr>\n",
              "      <th>331</th>\n",
              "      <td>l42uu6</td>\n",
              "      <td>Reminder going into the GME dip on Monday. Sho...</td>\n",
              "      <td>NaN</td>\n",
              "      <td>https://i.redd.it/obdlc8dy5bd61.png</td>\n",
              "      <td>ShaidarHaran2</td>\n",
              "      <td>1</td>\n",
              "      <td>2021-01-24 16:44:07</td>\n",
              "      <td>0</td>\n",
              "      <td>/r/GME/comments/l42uu6/reminder_going_into_the...</td>\n",
              "      <td>NaN</td>\n",
              "      <td>2021-01-24</td>\n",
              "    </tr>\n",
              "    <tr>\n",
              "      <th>416</th>\n",
              "      <td>l4o0uo</td>\n",
              "      <td>Do you think it will Dip like VW?</td>\n",
              "      <td>Il not selling, don’t worry.</td>\n",
              "      <td>https://www.reddit.com/r/GME/comments/l4o0uo/d...</td>\n",
              "      <td>Young_Investor111</td>\n",
              "      <td>1</td>\n",
              "      <td>2021-01-25 13:38:44</td>\n",
              "      <td>0</td>\n",
              "      <td>/r/GME/comments/l4o0uo/do_you_think_it_will_di...</td>\n",
              "      <td>NaN</td>\n",
              "      <td>2021-01-25</td>\n",
              "    </tr>\n",
              "  </tbody>\n",
              "</table>\n",
              "</div>"
            ],
            "text/plain": [
              "    Post ID                                              Title  ... Flair       Date\n",
              "65   kwlfc0  WTF is this dip to punish people who jump on l...  ...   NaN 2021-01-13\n",
              "82   kxwgmq      GME Keep dipping and someone sold 810k shares  ...   NaN 2021-01-15\n",
              "83   kxwm8k                       DIP BABY DIP. DIP! DIP! DIP!  ...   NaN 2021-01-15\n",
              "331  l42uu6  Reminder going into the GME dip on Monday. Sho...  ...   NaN 2021-01-24\n",
              "416  l4o0uo                  Do you think it will Dip like VW?  ...   NaN 2021-01-25\n",
              "\n",
              "[5 rows x 11 columns]"
            ]
          },
          "metadata": {
            "tags": []
          },
          "execution_count": 41
        }
      ]
    },
    {
      "cell_type": "code",
      "metadata": {
        "id": "7SI6EUq2pBcf"
      },
      "source": [
        "gmedaily_filtered_dip = gme_filtered_dip.groupby('Date', as_index=False).count()"
      ],
      "execution_count": null,
      "outputs": []
    },
    {
      "cell_type": "code",
      "metadata": {
        "colab": {
          "base_uri": "https://localhost:8080/",
          "height": 189
        },
        "id": "uI64vlsswNqN",
        "outputId": "4bf81c3e-bd89-4e6a-dd95-9bf7b3fbfc00"
      },
      "source": [
        "gmedaily_filtered_dip.head()"
      ],
      "execution_count": null,
      "outputs": [
        {
          "output_type": "execute_result",
          "data": {
            "text/html": [
              "<div>\n",
              "<style scoped>\n",
              "    .dataframe tbody tr th:only-of-type {\n",
              "        vertical-align: middle;\n",
              "    }\n",
              "\n",
              "    .dataframe tbody tr th {\n",
              "        vertical-align: top;\n",
              "    }\n",
              "\n",
              "    .dataframe thead th {\n",
              "        text-align: right;\n",
              "    }\n",
              "</style>\n",
              "<table border=\"1\" class=\"dataframe\">\n",
              "  <thead>\n",
              "    <tr style=\"text-align: right;\">\n",
              "      <th></th>\n",
              "      <th>Date</th>\n",
              "      <th>Post ID</th>\n",
              "      <th>Title</th>\n",
              "      <th>selftext</th>\n",
              "      <th>Url</th>\n",
              "      <th>Author</th>\n",
              "      <th>Score</th>\n",
              "      <th>Publish Date</th>\n",
              "      <th>Total No. of Comments</th>\n",
              "      <th>Permalink</th>\n",
              "      <th>Flair</th>\n",
              "    </tr>\n",
              "  </thead>\n",
              "  <tbody>\n",
              "    <tr>\n",
              "      <th>0</th>\n",
              "      <td>2021-01-13</td>\n",
              "      <td>1</td>\n",
              "      <td>1</td>\n",
              "      <td>1</td>\n",
              "      <td>1</td>\n",
              "      <td>1</td>\n",
              "      <td>1</td>\n",
              "      <td>1</td>\n",
              "      <td>1</td>\n",
              "      <td>1</td>\n",
              "      <td>0</td>\n",
              "    </tr>\n",
              "    <tr>\n",
              "      <th>1</th>\n",
              "      <td>2021-01-15</td>\n",
              "      <td>2</td>\n",
              "      <td>2</td>\n",
              "      <td>2</td>\n",
              "      <td>2</td>\n",
              "      <td>2</td>\n",
              "      <td>2</td>\n",
              "      <td>2</td>\n",
              "      <td>2</td>\n",
              "      <td>2</td>\n",
              "      <td>0</td>\n",
              "    </tr>\n",
              "    <tr>\n",
              "      <th>2</th>\n",
              "      <td>2021-01-24</td>\n",
              "      <td>1</td>\n",
              "      <td>1</td>\n",
              "      <td>0</td>\n",
              "      <td>1</td>\n",
              "      <td>1</td>\n",
              "      <td>1</td>\n",
              "      <td>1</td>\n",
              "      <td>1</td>\n",
              "      <td>1</td>\n",
              "      <td>0</td>\n",
              "    </tr>\n",
              "    <tr>\n",
              "      <th>3</th>\n",
              "      <td>2021-01-25</td>\n",
              "      <td>8</td>\n",
              "      <td>8</td>\n",
              "      <td>5</td>\n",
              "      <td>8</td>\n",
              "      <td>8</td>\n",
              "      <td>8</td>\n",
              "      <td>8</td>\n",
              "      <td>8</td>\n",
              "      <td>8</td>\n",
              "      <td>0</td>\n",
              "    </tr>\n",
              "    <tr>\n",
              "      <th>4</th>\n",
              "      <td>2021-01-26</td>\n",
              "      <td>7</td>\n",
              "      <td>7</td>\n",
              "      <td>4</td>\n",
              "      <td>7</td>\n",
              "      <td>7</td>\n",
              "      <td>7</td>\n",
              "      <td>7</td>\n",
              "      <td>7</td>\n",
              "      <td>7</td>\n",
              "      <td>0</td>\n",
              "    </tr>\n",
              "  </tbody>\n",
              "</table>\n",
              "</div>"
            ],
            "text/plain": [
              "        Date  Post ID  Title  ...  Total No. of Comments  Permalink  Flair\n",
              "0 2021-01-13        1      1  ...                      1          1      0\n",
              "1 2021-01-15        2      2  ...                      2          2      0\n",
              "2 2021-01-24        1      1  ...                      1          1      0\n",
              "3 2021-01-25        8      8  ...                      8          8      0\n",
              "4 2021-01-26        7      7  ...                      7          7      0\n",
              "\n",
              "[5 rows x 11 columns]"
            ]
          },
          "metadata": {
            "tags": []
          },
          "execution_count": 57
        }
      ]
    },
    {
      "cell_type": "code",
      "metadata": {
        "colab": {
          "base_uri": "https://localhost:8080/",
          "height": 840
        },
        "id": "6wq1Y9yCyviT",
        "outputId": "27d6db4f-c5d7-42be-d060-360c5babffa4"
      },
      "source": [
        "# Plotting GME posts with the word \"Dip\" in the title against the GME stock price.\n",
        "ax = gmedaily_filtered_dip.plot(x='Date', y = 'Post ID', kind = 'line', figsize=(30,15), color = 'blue', label = 'r/GME \"Dip\" Posts', title = 'r/GME \"Dip\" Posts vs GME Closing Price')\n",
        "gmestock.plot(x='Date', y = 'Close', kind = 'line', figsize=(30,15), color = 'red', label = 'GME Closing Price', ax=ax)\n",
        "\n",
        "ax.set_ylabel('# of Posts Containing \"Dip\"', color='b')\n",
        "ax2 = ax.twinx()\n",
        "ax2.set_ylabel('GME Closing Price', color='r')\n",
        "ax2.set_ylim(bottom=0, top=500)\n",
        "ax.set_ylim(bottom=0, top=700)\n",
        "plt.grid()"
      ],
      "execution_count": 130,
      "outputs": [
        {
          "output_type": "display_data",
          "data": {
            "image/png": "[encoded data removed]",
            "text/plain": [
              "<Figure size 2160x1080 with 2 Axes>"
            ]
          },
          "metadata": {
            "tags": [],
            "needs_background": "light"
          }
        }
      ]
    },
    {
      "cell_type": "markdown",
      "metadata": {
        "id": "6-sg1WSW5T_y"
      },
      "source": [
        "**Generating the Count(Buy) vs GME Close Price Graph**"
      ]
    },
    {
      "cell_type": "code",
      "metadata": {
        "id": "OorMbKVOPrXv"
      },
      "source": [
        "# Filtering the gmedaily_filtered dataframe to only include titles with the word \"Buy\"\n",
        "\n",
        "cols_list = ['Title'] # Target Columns\n",
        "search_values = ['Buy'] # Target Word(s)\n",
        "\n",
        "gme_filtered_buy = gme_filtered[gme_filtered[cols_list].stack().str.contains('|'.join(search_values),case=False,na=False).any(level=0)]"
      ],
      "execution_count": 65,
      "outputs": []
    },
    {
      "cell_type": "code",
      "metadata": {
        "colab": {
          "base_uri": "https://localhost:8080/",
          "height": 197
        },
        "id": "29BHCTMLP0Bh",
        "outputId": "a64e5707-a57f-4ca3-ce55-c3014441804f"
      },
      "source": [
        "gme_filtered_buy.head()"
      ],
      "execution_count": 66,
      "outputs": [
        {
          "output_type": "execute_result",
          "data": {
            "text/html": [
              "<div>\n",
              "<style scoped>\n",
              "    .dataframe tbody tr th:only-of-type {\n",
              "        vertical-align: middle;\n",
              "    }\n",
              "\n",
              "    .dataframe tbody tr th {\n",
              "        vertical-align: top;\n",
              "    }\n",
              "\n",
              "    .dataframe thead th {\n",
              "        text-align: right;\n",
              "    }\n",
              "</style>\n",
              "<table border=\"1\" class=\"dataframe\">\n",
              "  <thead>\n",
              "    <tr style=\"text-align: right;\">\n",
              "      <th></th>\n",
              "      <th>Post ID</th>\n",
              "      <th>Title</th>\n",
              "      <th>selftext</th>\n",
              "      <th>Url</th>\n",
              "      <th>Author</th>\n",
              "      <th>Score</th>\n",
              "      <th>Publish Date</th>\n",
              "      <th>Total No. of Comments</th>\n",
              "      <th>Permalink</th>\n",
              "      <th>Flair</th>\n",
              "      <th>Date</th>\n",
              "    </tr>\n",
              "  </thead>\n",
              "  <tbody>\n",
              "    <tr>\n",
              "      <th>67</th>\n",
              "      <td>kwtze7</td>\n",
              "      <td>BUY CALLS FOR JAN 15 or Stock</td>\n",
              "      <td>Do you think its still going up if I buy at st...</td>\n",
              "      <td>https://www.reddit.com/r/GME/comments/kwtze7/b...</td>\n",
              "      <td>SharpReaps</td>\n",
              "      <td>1</td>\n",
              "      <td>2021-01-14 00:23:28</td>\n",
              "      <td>6</td>\n",
              "      <td>/r/GME/comments/kwtze7/buy_calls_for_jan_15_or...</td>\n",
              "      <td>NaN</td>\n",
              "      <td>2021-01-14</td>\n",
              "    </tr>\n",
              "    <tr>\n",
              "      <th>75</th>\n",
              "      <td>kxdpvx</td>\n",
              "      <td>Should I buy more GME?</td>\n",
              "      <td>I bought 10 shares of GME when it was at $17 i...</td>\n",
              "      <td>https://www.reddit.com/r/GME/comments/kxdpvx/s...</td>\n",
              "      <td>jonastirona</td>\n",
              "      <td>1</td>\n",
              "      <td>2021-01-14 20:13:50</td>\n",
              "      <td>18</td>\n",
              "      <td>/r/GME/comments/kxdpvx/should_i_buy_more_gme/</td>\n",
              "      <td>NaN</td>\n",
              "      <td>2021-01-14</td>\n",
              "    </tr>\n",
              "    <tr>\n",
              "      <th>86</th>\n",
              "      <td>kxz3gu</td>\n",
              "      <td>Buy now 🚀🚀</td>\n",
              "      <td>Great time to buy right now ladies don’t be a ...</td>\n",
              "      <td>https://www.reddit.com/r/GME/comments/kxz3gu/b...</td>\n",
              "      <td>Pickle_rick57</td>\n",
              "      <td>5</td>\n",
              "      <td>2021-01-15 17:21:37</td>\n",
              "      <td>3</td>\n",
              "      <td>/r/GME/comments/kxz3gu/buy_now/</td>\n",
              "      <td>NaN</td>\n",
              "      <td>2021-01-15</td>\n",
              "    </tr>\n",
              "    <tr>\n",
              "      <th>89</th>\n",
              "      <td>ky1ues</td>\n",
              "      <td>Is next Wednesday too late to buy GME?</td>\n",
              "      <td>I just sold all my stocks and etfs except GME ...</td>\n",
              "      <td>https://www.reddit.com/r/GME/comments/ky1ues/i...</td>\n",
              "      <td>jonastirona</td>\n",
              "      <td>1</td>\n",
              "      <td>2021-01-15 19:29:28</td>\n",
              "      <td>17</td>\n",
              "      <td>/r/GME/comments/ky1ues/is_next_wednesday_too_l...</td>\n",
              "      <td>NaN</td>\n",
              "      <td>2021-01-15</td>\n",
              "    </tr>\n",
              "    <tr>\n",
              "      <th>118</th>\n",
              "      <td>l0jp3f</td>\n",
              "      <td>What buy price on opening?</td>\n",
              "      <td>[removed]</td>\n",
              "      <td>https://www.reddit.com/r/GME/comments/l0jp3f/w...</td>\n",
              "      <td>DrySea3878</td>\n",
              "      <td>1</td>\n",
              "      <td>2021-01-19 13:21:03</td>\n",
              "      <td>0</td>\n",
              "      <td>/r/GME/comments/l0jp3f/what_buy_price_on_opening/</td>\n",
              "      <td>NaN</td>\n",
              "      <td>2021-01-19</td>\n",
              "    </tr>\n",
              "  </tbody>\n",
              "</table>\n",
              "</div>"
            ],
            "text/plain": [
              "    Post ID                                   Title  ... Flair       Date\n",
              "67   kwtze7           BUY CALLS FOR JAN 15 or Stock  ...   NaN 2021-01-14\n",
              "75   kxdpvx                  Should I buy more GME?  ...   NaN 2021-01-14\n",
              "86   kxz3gu                              Buy now 🚀🚀  ...   NaN 2021-01-15\n",
              "89   ky1ues  Is next Wednesday too late to buy GME?  ...   NaN 2021-01-15\n",
              "118  l0jp3f              What buy price on opening?  ...   NaN 2021-01-19\n",
              "\n",
              "[5 rows x 11 columns]"
            ]
          },
          "metadata": {
            "tags": []
          },
          "execution_count": 66
        }
      ]
    },
    {
      "cell_type": "code",
      "metadata": {
        "id": "Xs0w-Fp1P44e"
      },
      "source": [
        "gmedaily_filtered_buy = gme_filtered_buy.groupby('Date', as_index=False).count()"
      ],
      "execution_count": 67,
      "outputs": []
    },
    {
      "cell_type": "code",
      "metadata": {
        "colab": {
          "base_uri": "https://localhost:8080/",
          "height": 197
        },
        "id": "QY887VUzP-7Y",
        "outputId": "0dfc742c-c437-4334-c988-204034b3d6fe"
      },
      "source": [
        "gmedaily_filtered_buy.head()"
      ],
      "execution_count": 79,
      "outputs": [
        {
          "output_type": "execute_result",
          "data": {
            "text/html": [
              "<div>\n",
              "<style scoped>\n",
              "    .dataframe tbody tr th:only-of-type {\n",
              "        vertical-align: middle;\n",
              "    }\n",
              "\n",
              "    .dataframe tbody tr th {\n",
              "        vertical-align: top;\n",
              "    }\n",
              "\n",
              "    .dataframe thead th {\n",
              "        text-align: right;\n",
              "    }\n",
              "</style>\n",
              "<table border=\"1\" class=\"dataframe\">\n",
              "  <thead>\n",
              "    <tr style=\"text-align: right;\">\n",
              "      <th></th>\n",
              "      <th>Date</th>\n",
              "      <th>Post ID</th>\n",
              "      <th>Title</th>\n",
              "      <th>selftext</th>\n",
              "      <th>Url</th>\n",
              "      <th>Author</th>\n",
              "      <th>Score</th>\n",
              "      <th>Publish Date</th>\n",
              "      <th>Total No. of Comments</th>\n",
              "      <th>Permalink</th>\n",
              "      <th>Flair</th>\n",
              "    </tr>\n",
              "  </thead>\n",
              "  <tbody>\n",
              "    <tr>\n",
              "      <th>0</th>\n",
              "      <td>2021-01-14</td>\n",
              "      <td>2</td>\n",
              "      <td>2</td>\n",
              "      <td>2</td>\n",
              "      <td>2</td>\n",
              "      <td>2</td>\n",
              "      <td>2</td>\n",
              "      <td>2</td>\n",
              "      <td>2</td>\n",
              "      <td>2</td>\n",
              "      <td>0</td>\n",
              "    </tr>\n",
              "    <tr>\n",
              "      <th>1</th>\n",
              "      <td>2021-01-15</td>\n",
              "      <td>2</td>\n",
              "      <td>2</td>\n",
              "      <td>2</td>\n",
              "      <td>2</td>\n",
              "      <td>2</td>\n",
              "      <td>2</td>\n",
              "      <td>2</td>\n",
              "      <td>2</td>\n",
              "      <td>2</td>\n",
              "      <td>0</td>\n",
              "    </tr>\n",
              "    <tr>\n",
              "      <th>2</th>\n",
              "      <td>2021-01-19</td>\n",
              "      <td>1</td>\n",
              "      <td>1</td>\n",
              "      <td>1</td>\n",
              "      <td>1</td>\n",
              "      <td>1</td>\n",
              "      <td>1</td>\n",
              "      <td>1</td>\n",
              "      <td>1</td>\n",
              "      <td>1</td>\n",
              "      <td>0</td>\n",
              "    </tr>\n",
              "    <tr>\n",
              "      <th>3</th>\n",
              "      <td>2021-01-21</td>\n",
              "      <td>2</td>\n",
              "      <td>2</td>\n",
              "      <td>1</td>\n",
              "      <td>2</td>\n",
              "      <td>2</td>\n",
              "      <td>2</td>\n",
              "      <td>2</td>\n",
              "      <td>2</td>\n",
              "      <td>2</td>\n",
              "      <td>0</td>\n",
              "    </tr>\n",
              "    <tr>\n",
              "      <th>4</th>\n",
              "      <td>2021-01-22</td>\n",
              "      <td>10</td>\n",
              "      <td>10</td>\n",
              "      <td>5</td>\n",
              "      <td>10</td>\n",
              "      <td>10</td>\n",
              "      <td>10</td>\n",
              "      <td>10</td>\n",
              "      <td>10</td>\n",
              "      <td>10</td>\n",
              "      <td>0</td>\n",
              "    </tr>\n",
              "  </tbody>\n",
              "</table>\n",
              "</div>"
            ],
            "text/plain": [
              "        Date  Post ID  Title  ...  Total No. of Comments  Permalink  Flair\n",
              "0 2021-01-14        2      2  ...                      2          2      0\n",
              "1 2021-01-15        2      2  ...                      2          2      0\n",
              "2 2021-01-19        1      1  ...                      1          1      0\n",
              "3 2021-01-21        2      2  ...                      2          2      0\n",
              "4 2021-01-22       10     10  ...                     10         10      0\n",
              "\n",
              "[5 rows x 11 columns]"
            ]
          },
          "metadata": {
            "tags": []
          },
          "execution_count": 79
        }
      ]
    },
    {
      "cell_type": "code",
      "metadata": {
        "colab": {
          "base_uri": "https://localhost:8080/",
          "height": 197
        },
        "id": "wk3G-9xLSHQD",
        "outputId": "5a3c009d-8845-4e67-b8f9-3b0f02562989"
      },
      "source": [
        "gmestock.head()"
      ],
      "execution_count": 107,
      "outputs": [
        {
          "output_type": "execute_result",
          "data": {
            "text/html": [
              "<div>\n",
              "<style scoped>\n",
              "    .dataframe tbody tr th:only-of-type {\n",
              "        vertical-align: middle;\n",
              "    }\n",
              "\n",
              "    .dataframe tbody tr th {\n",
              "        vertical-align: top;\n",
              "    }\n",
              "\n",
              "    .dataframe thead th {\n",
              "        text-align: right;\n",
              "    }\n",
              "</style>\n",
              "<table border=\"1\" class=\"dataframe\">\n",
              "  <thead>\n",
              "    <tr style=\"text-align: right;\">\n",
              "      <th></th>\n",
              "      <th>Date</th>\n",
              "      <th>Open</th>\n",
              "      <th>High</th>\n",
              "      <th>Low</th>\n",
              "      <th>Close</th>\n",
              "      <th>Volume</th>\n",
              "    </tr>\n",
              "  </thead>\n",
              "  <tbody>\n",
              "    <tr>\n",
              "      <th>61</th>\n",
              "      <td>2021-01-04</td>\n",
              "      <td>19.00</td>\n",
              "      <td>19.10</td>\n",
              "      <td>17.15</td>\n",
              "      <td>17.25</td>\n",
              "      <td>10,022,470</td>\n",
              "    </tr>\n",
              "    <tr>\n",
              "      <th>60</th>\n",
              "      <td>2021-01-05</td>\n",
              "      <td>17.35</td>\n",
              "      <td>18.08</td>\n",
              "      <td>17.23</td>\n",
              "      <td>17.37</td>\n",
              "      <td>4,961,457</td>\n",
              "    </tr>\n",
              "    <tr>\n",
              "      <th>59</th>\n",
              "      <td>2021-01-06</td>\n",
              "      <td>17.34</td>\n",
              "      <td>18.98</td>\n",
              "      <td>17.33</td>\n",
              "      <td>18.36</td>\n",
              "      <td>6,056,248</td>\n",
              "    </tr>\n",
              "    <tr>\n",
              "      <th>58</th>\n",
              "      <td>2021-01-07</td>\n",
              "      <td>18.47</td>\n",
              "      <td>19.45</td>\n",
              "      <td>18.02</td>\n",
              "      <td>18.08</td>\n",
              "      <td>6,129,276</td>\n",
              "    </tr>\n",
              "    <tr>\n",
              "      <th>57</th>\n",
              "      <td>2021-01-08</td>\n",
              "      <td>18.18</td>\n",
              "      <td>18.30</td>\n",
              "      <td>17.08</td>\n",
              "      <td>17.69</td>\n",
              "      <td>6,481,960</td>\n",
              "    </tr>\n",
              "  </tbody>\n",
              "</table>\n",
              "</div>"
            ],
            "text/plain": [
              "         Date   Open   High    Low  Close      Volume\n",
              "61 2021-01-04  19.00  19.10  17.15  17.25  10,022,470\n",
              "60 2021-01-05  17.35  18.08  17.23  17.37   4,961,457\n",
              "59 2021-01-06  17.34  18.98  17.33  18.36   6,056,248\n",
              "58 2021-01-07  18.47  19.45  18.02  18.08   6,129,276\n",
              "57 2021-01-08  18.18  18.30  17.08  17.69   6,481,960"
            ]
          },
          "metadata": {
            "tags": []
          },
          "execution_count": 107
        }
      ]
    },
    {
      "cell_type": "code",
      "metadata": {
        "colab": {
          "base_uri": "https://localhost:8080/",
          "height": 840
        },
        "id": "xtKEkk3GQDfC",
        "outputId": "e8a9777e-b992-49da-8c13-c1c3e0b802e1"
      },
      "source": [
        "# Plotting GME posts with the word \"Buy\" in the title against the GME stock price.\n",
        "\n",
        "ax = gmedaily_filtered_buy.plot(x='Date', y = 'Post ID', kind = 'line', figsize=(30,15), color = 'blue', label = 'r/GME \"Buy\" Posts', title = 'r/GME \"Buy\" Posts vs GME Closing Price')\n",
        "ax2 = gmestock.plot(x='Date', y = 'Close', kind = 'line', figsize=(30,15), color = 'red', label = 'GME Closing Price', ax=ax)\n",
        "\n",
        "ax.set_ylabel('# of Posts Containing \"Buy\"', color='b')\n",
        "ax2 = ax.twinx()\n",
        "ax2.set_ylabel('GME Closing Price', color='r')\n",
        "ax2.set_ylim(bottom=0, top=500)\n",
        "ax.set_ylim(bottom=0, top=500)\n",
        "plt.grid()"
      ],
      "execution_count": 128,
      "outputs": [
        {
          "output_type": "display_data",
          "data": {
            "image/png": "[encoded data removed]",
            "text/plain": [
              "<Figure size 2160x1080 with 2 Axes>"
            ]
          },
          "metadata": {
            "tags": [],
            "needs_background": "light"
          }
        }
      ]
    },
    {
      "cell_type": "markdown",
      "metadata": {
        "id": "1U22o02zUrZt"
      },
      "source": [
        "**Generating the Count(Sell) vs GME Close Price Graph**"
      ]
    },
    {
      "cell_type": "code",
      "metadata": {
        "id": "jwY7oAntU0yb"
      },
      "source": [
        "# Filtering the gmedaily_filtered dataframe to only include titles with the word \"Sell\"\n",
        "\n",
        "cols_list = ['Title'] # Target Columns\n",
        "search_values = ['Sell'] # Target Word(s)\n",
        "\n",
        "gme_filtered_sell = gme_filtered[gme_filtered[cols_list].stack().str.contains('|'.join(search_values),case=False,na=False).any(level=0)]"
      ],
      "execution_count": 96,
      "outputs": []
    },
    {
      "cell_type": "code",
      "metadata": {
        "colab": {
          "base_uri": "https://localhost:8080/",
          "height": 297
        },
        "id": "F8WI4L3hU00t",
        "outputId": "19104d7b-dba9-4fa9-b843-92bf0bebdd1d"
      },
      "source": [
        "gme_filtered_sell.head()"
      ],
      "execution_count": 97,
      "outputs": [
        {
          "output_type": "execute_result",
          "data": {
            "text/html": [
              "<div>\n",
              "<style scoped>\n",
              "    .dataframe tbody tr th:only-of-type {\n",
              "        vertical-align: middle;\n",
              "    }\n",
              "\n",
              "    .dataframe tbody tr th {\n",
              "        vertical-align: top;\n",
              "    }\n",
              "\n",
              "    .dataframe thead th {\n",
              "        text-align: right;\n",
              "    }\n",
              "</style>\n",
              "<table border=\"1\" class=\"dataframe\">\n",
              "  <thead>\n",
              "    <tr style=\"text-align: right;\">\n",
              "      <th></th>\n",
              "      <th>Post ID</th>\n",
              "      <th>Title</th>\n",
              "      <th>selftext</th>\n",
              "      <th>Url</th>\n",
              "      <th>Author</th>\n",
              "      <th>Score</th>\n",
              "      <th>Publish Date</th>\n",
              "      <th>Total No. of Comments</th>\n",
              "      <th>Permalink</th>\n",
              "      <th>Flair</th>\n",
              "      <th>Date</th>\n",
              "    </tr>\n",
              "  </thead>\n",
              "  <tbody>\n",
              "    <tr>\n",
              "      <th>69</th>\n",
              "      <td>kwvqbc</td>\n",
              "      <td>:) short squeeze not done yet bois don't sell 💎👐</td>\n",
              "      <td>NaN</td>\n",
              "      <td>https://i.redd.it/fw5ajyzdg7b61.jpg</td>\n",
              "      <td>jonastirona</td>\n",
              "      <td>2</td>\n",
              "      <td>2021-01-14 02:01:24</td>\n",
              "      <td>3</td>\n",
              "      <td>/r/GME/comments/kwvqbc/short_squeeze_not_done_...</td>\n",
              "      <td>NaN</td>\n",
              "      <td>2021-01-14</td>\n",
              "    </tr>\n",
              "    <tr>\n",
              "      <th>73</th>\n",
              "      <td>kx6g3k</td>\n",
              "      <td>GME IS A SELL</td>\n",
              "      <td>Cramer said GameStop  (GME)  is not doing too ...</td>\n",
              "      <td>https://www.reddit.com/r/GME/comments/kx6g3k/g...</td>\n",
              "      <td>Snafflepagus</td>\n",
              "      <td>1</td>\n",
              "      <td>2021-01-14 14:17:27</td>\n",
              "      <td>7</td>\n",
              "      <td>/r/GME/comments/kx6g3k/gme_is_a_sell/</td>\n",
              "      <td>NaN</td>\n",
              "      <td>2021-01-14</td>\n",
              "    </tr>\n",
              "    <tr>\n",
              "      <th>95</th>\n",
              "      <td>kym7ae</td>\n",
              "      <td>How much do you set your sell limit to?</td>\n",
              "      <td>What is the most optimistic price for sell lim...</td>\n",
              "      <td>https://www.reddit.com/r/GME/comments/kym7ae/h...</td>\n",
              "      <td>Ringsel1</td>\n",
              "      <td>1</td>\n",
              "      <td>2021-01-16 16:41:02</td>\n",
              "      <td>21</td>\n",
              "      <td>/r/GME/comments/kym7ae/how_much_do_you_set_you...</td>\n",
              "      <td>NaN</td>\n",
              "      <td>2021-01-16</td>\n",
              "    </tr>\n",
              "    <tr>\n",
              "      <th>111</th>\n",
              "      <td>l06jyc</td>\n",
              "      <td>Do I need to set a sell limit?</td>\n",
              "      <td>I realize that it’s good practice to set a sel...</td>\n",
              "      <td>https://www.reddit.com/r/GME/comments/l06jyc/d...</td>\n",
              "      <td>tweezy_0</td>\n",
              "      <td>1</td>\n",
              "      <td>2021-01-18 23:21:25</td>\n",
              "      <td>6</td>\n",
              "      <td>/r/GME/comments/l06jyc/do_i_need_to_set_a_sell...</td>\n",
              "      <td>NaN</td>\n",
              "      <td>2021-01-18</td>\n",
              "    </tr>\n",
              "    <tr>\n",
              "      <th>122</th>\n",
              "      <td>l0lnju</td>\n",
              "      <td>What dickhole is selling 93,000 shares??</td>\n",
              "      <td>NaN</td>\n",
              "      <td>https://i.redd.it/u455lnbi1bc61.jpg</td>\n",
              "      <td>haventredditeither</td>\n",
              "      <td>2</td>\n",
              "      <td>2021-01-19 15:08:32</td>\n",
              "      <td>20</td>\n",
              "      <td>/r/GME/comments/l0lnju/what_dickhole_is_sellin...</td>\n",
              "      <td>NaN</td>\n",
              "      <td>2021-01-19</td>\n",
              "    </tr>\n",
              "  </tbody>\n",
              "</table>\n",
              "</div>"
            ],
            "text/plain": [
              "    Post ID                                             Title  ... Flair       Date\n",
              "69   kwvqbc  :) short squeeze not done yet bois don't sell 💎👐  ...   NaN 2021-01-14\n",
              "73   kx6g3k                                     GME IS A SELL  ...   NaN 2021-01-14\n",
              "95   kym7ae           How much do you set your sell limit to?  ...   NaN 2021-01-16\n",
              "111  l06jyc                    Do I need to set a sell limit?  ...   NaN 2021-01-18\n",
              "122  l0lnju          What dickhole is selling 93,000 shares??  ...   NaN 2021-01-19\n",
              "\n",
              "[5 rows x 11 columns]"
            ]
          },
          "metadata": {
            "tags": []
          },
          "execution_count": 97
        }
      ]
    },
    {
      "cell_type": "code",
      "metadata": {
        "id": "wfu2IDUEU026"
      },
      "source": [
        "gmedaily_filtered_sell = gme_filtered_sell.groupby('Date', as_index=False).count()"
      ],
      "execution_count": 98,
      "outputs": []
    },
    {
      "cell_type": "code",
      "metadata": {
        "colab": {
          "base_uri": "https://localhost:8080/",
          "height": 197
        },
        "id": "BKUO_6vzU05K",
        "outputId": "76887134-2ae9-4414-f89a-90a7be715d1e"
      },
      "source": [
        "gmedaily_filtered_sell.head()"
      ],
      "execution_count": 99,
      "outputs": [
        {
          "output_type": "execute_result",
          "data": {
            "text/html": [
              "<div>\n",
              "<style scoped>\n",
              "    .dataframe tbody tr th:only-of-type {\n",
              "        vertical-align: middle;\n",
              "    }\n",
              "\n",
              "    .dataframe tbody tr th {\n",
              "        vertical-align: top;\n",
              "    }\n",
              "\n",
              "    .dataframe thead th {\n",
              "        text-align: right;\n",
              "    }\n",
              "</style>\n",
              "<table border=\"1\" class=\"dataframe\">\n",
              "  <thead>\n",
              "    <tr style=\"text-align: right;\">\n",
              "      <th></th>\n",
              "      <th>Date</th>\n",
              "      <th>Post ID</th>\n",
              "      <th>Title</th>\n",
              "      <th>selftext</th>\n",
              "      <th>Url</th>\n",
              "      <th>Author</th>\n",
              "      <th>Score</th>\n",
              "      <th>Publish Date</th>\n",
              "      <th>Total No. of Comments</th>\n",
              "      <th>Permalink</th>\n",
              "      <th>Flair</th>\n",
              "    </tr>\n",
              "  </thead>\n",
              "  <tbody>\n",
              "    <tr>\n",
              "      <th>0</th>\n",
              "      <td>2021-01-14</td>\n",
              "      <td>2</td>\n",
              "      <td>2</td>\n",
              "      <td>1</td>\n",
              "      <td>2</td>\n",
              "      <td>2</td>\n",
              "      <td>2</td>\n",
              "      <td>2</td>\n",
              "      <td>2</td>\n",
              "      <td>2</td>\n",
              "      <td>0</td>\n",
              "    </tr>\n",
              "    <tr>\n",
              "      <th>1</th>\n",
              "      <td>2021-01-16</td>\n",
              "      <td>1</td>\n",
              "      <td>1</td>\n",
              "      <td>1</td>\n",
              "      <td>1</td>\n",
              "      <td>1</td>\n",
              "      <td>1</td>\n",
              "      <td>1</td>\n",
              "      <td>1</td>\n",
              "      <td>1</td>\n",
              "      <td>0</td>\n",
              "    </tr>\n",
              "    <tr>\n",
              "      <th>2</th>\n",
              "      <td>2021-01-18</td>\n",
              "      <td>1</td>\n",
              "      <td>1</td>\n",
              "      <td>1</td>\n",
              "      <td>1</td>\n",
              "      <td>1</td>\n",
              "      <td>1</td>\n",
              "      <td>1</td>\n",
              "      <td>1</td>\n",
              "      <td>1</td>\n",
              "      <td>0</td>\n",
              "    </tr>\n",
              "    <tr>\n",
              "      <th>3</th>\n",
              "      <td>2021-01-19</td>\n",
              "      <td>1</td>\n",
              "      <td>1</td>\n",
              "      <td>0</td>\n",
              "      <td>1</td>\n",
              "      <td>1</td>\n",
              "      <td>1</td>\n",
              "      <td>1</td>\n",
              "      <td>1</td>\n",
              "      <td>1</td>\n",
              "      <td>0</td>\n",
              "    </tr>\n",
              "    <tr>\n",
              "      <th>4</th>\n",
              "      <td>2021-01-20</td>\n",
              "      <td>1</td>\n",
              "      <td>1</td>\n",
              "      <td>0</td>\n",
              "      <td>1</td>\n",
              "      <td>1</td>\n",
              "      <td>1</td>\n",
              "      <td>1</td>\n",
              "      <td>1</td>\n",
              "      <td>1</td>\n",
              "      <td>0</td>\n",
              "    </tr>\n",
              "  </tbody>\n",
              "</table>\n",
              "</div>"
            ],
            "text/plain": [
              "        Date  Post ID  Title  ...  Total No. of Comments  Permalink  Flair\n",
              "0 2021-01-14        2      2  ...                      2          2      0\n",
              "1 2021-01-16        1      1  ...                      1          1      0\n",
              "2 2021-01-18        1      1  ...                      1          1      0\n",
              "3 2021-01-19        1      1  ...                      1          1      0\n",
              "4 2021-01-20        1      1  ...                      1          1      0\n",
              "\n",
              "[5 rows x 11 columns]"
            ]
          },
          "metadata": {
            "tags": []
          },
          "execution_count": 99
        }
      ]
    },
    {
      "cell_type": "code",
      "metadata": {
        "colab": {
          "base_uri": "https://localhost:8080/",
          "height": 840
        },
        "id": "zPHEF4V2U06s",
        "outputId": "1fdde8d7-51db-41fb-a4a3-77dfa6f9791e"
      },
      "source": [
        "# Plotting GME posts with the word \"Sell\" in the title against the GME stock price.\n",
        "\n",
        "ax = gmedaily_filtered_sell.plot(x='Date', y = 'Post ID', kind = 'line', figsize=(30,15), color = 'blue', label = 'r/GME \"Sell\" Posts', title = 'r/GME \"Sell\" Posts vs GME Closing Price')\n",
        "ax2 = gmestock.plot(x='Date', y = 'Close', kind = 'line', figsize=(30,15), color = 'red', label = 'GME Closing Price', ax=ax)\n",
        "\n",
        "ax.set_ylabel('# of Posts Containing \"Sell\"', color='b')\n",
        "ax2 = ax.twinx()\n",
        "ax2.set_ylabel('GME Closing Price', color='r')\n",
        "ax2.set_ylim(bottom=0, top=500)\n",
        "ax.set_ylim(bottom=0, top=500)\n",
        "plt.grid()"
      ],
      "execution_count": 127,
      "outputs": [
        {
          "output_type": "display_data",
          "data": {
            "image/png": "[encoded data removed]",
            "text/plain": [
              "<Figure size 2160x1080 with 2 Axes>"
            ]
          },
          "metadata": {
            "tags": [],
            "needs_background": "light"
          }
        }
      ]
    },
    {
      "cell_type": "markdown",
      "metadata": {
        "id": "iggj_A4iUiuh"
      },
      "source": [
        "**Generating the Count(Buy & Dip) vs GME Close Price Graph**"
      ]
    },
    {
      "cell_type": "code",
      "metadata": {
        "id": "5j0TGMchWUCI"
      },
      "source": [
        "# Filtering the gmedaily_filtered dataframe to only include titles with the word \"Buy\"\n",
        "\n",
        "cols_list = ['Title'] # Target Columns\n",
        "search_values = ['Buy', 'Dip'] # Target Word(s)\n",
        "\n",
        "gme_filtered_comb = gme_filtered[gme_filtered[cols_list].stack().str.contains('|'.join(search_values),case=False,na=False).any(level=0)]"
      ],
      "execution_count": 108,
      "outputs": []
    },
    {
      "cell_type": "code",
      "metadata": {
        "colab": {
          "base_uri": "https://localhost:8080/",
          "height": 297
        },
        "id": "NbWE_VA4WaY8",
        "outputId": "68122f39-cbc5-4569-a84e-747acddfae09"
      },
      "source": [
        "gme_filtered_comb.head()"
      ],
      "execution_count": 109,
      "outputs": [
        {
          "output_type": "execute_result",
          "data": {
            "text/html": [
              "<div>\n",
              "<style scoped>\n",
              "    .dataframe tbody tr th:only-of-type {\n",
              "        vertical-align: middle;\n",
              "    }\n",
              "\n",
              "    .dataframe tbody tr th {\n",
              "        vertical-align: top;\n",
              "    }\n",
              "\n",
              "    .dataframe thead th {\n",
              "        text-align: right;\n",
              "    }\n",
              "</style>\n",
              "<table border=\"1\" class=\"dataframe\">\n",
              "  <thead>\n",
              "    <tr style=\"text-align: right;\">\n",
              "      <th></th>\n",
              "      <th>Post ID</th>\n",
              "      <th>Title</th>\n",
              "      <th>selftext</th>\n",
              "      <th>Url</th>\n",
              "      <th>Author</th>\n",
              "      <th>Score</th>\n",
              "      <th>Publish Date</th>\n",
              "      <th>Total No. of Comments</th>\n",
              "      <th>Permalink</th>\n",
              "      <th>Flair</th>\n",
              "      <th>Date</th>\n",
              "    </tr>\n",
              "  </thead>\n",
              "  <tbody>\n",
              "    <tr>\n",
              "      <th>65</th>\n",
              "      <td>kwlfc0</td>\n",
              "      <td>WTF is this dip to punish people who jump on l...</td>\n",
              "      <td>[deleted]</td>\n",
              "      <td>https://v.redd.it/xwe3xfd6y4b61</td>\n",
              "      <td>[deleted]</td>\n",
              "      <td>1</td>\n",
              "      <td>2021-01-13 17:36:13</td>\n",
              "      <td>0</td>\n",
              "      <td>/r/GME/comments/kwlfc0/wtf_is_this_dip_to_puni...</td>\n",
              "      <td>NaN</td>\n",
              "      <td>2021-01-13</td>\n",
              "    </tr>\n",
              "    <tr>\n",
              "      <th>67</th>\n",
              "      <td>kwtze7</td>\n",
              "      <td>BUY CALLS FOR JAN 15 or Stock</td>\n",
              "      <td>Do you think its still going up if I buy at st...</td>\n",
              "      <td>https://www.reddit.com/r/GME/comments/kwtze7/b...</td>\n",
              "      <td>SharpReaps</td>\n",
              "      <td>1</td>\n",
              "      <td>2021-01-14 00:23:28</td>\n",
              "      <td>6</td>\n",
              "      <td>/r/GME/comments/kwtze7/buy_calls_for_jan_15_or...</td>\n",
              "      <td>NaN</td>\n",
              "      <td>2021-01-14</td>\n",
              "    </tr>\n",
              "    <tr>\n",
              "      <th>75</th>\n",
              "      <td>kxdpvx</td>\n",
              "      <td>Should I buy more GME?</td>\n",
              "      <td>I bought 10 shares of GME when it was at $17 i...</td>\n",
              "      <td>https://www.reddit.com/r/GME/comments/kxdpvx/s...</td>\n",
              "      <td>jonastirona</td>\n",
              "      <td>1</td>\n",
              "      <td>2021-01-14 20:13:50</td>\n",
              "      <td>18</td>\n",
              "      <td>/r/GME/comments/kxdpvx/should_i_buy_more_gme/</td>\n",
              "      <td>NaN</td>\n",
              "      <td>2021-01-14</td>\n",
              "    </tr>\n",
              "    <tr>\n",
              "      <th>82</th>\n",
              "      <td>kxwgmq</td>\n",
              "      <td>GME Keep dipping and someone sold 810k shares</td>\n",
              "      <td>https://www.google.com/amp/s/seekingalpha.com/...</td>\n",
              "      <td>https://www.reddit.com/r/GME/comments/kxwgmq/g...</td>\n",
              "      <td>Snafflepagus</td>\n",
              "      <td>0</td>\n",
              "      <td>2021-01-15 15:13:52</td>\n",
              "      <td>13</td>\n",
              "      <td>/r/GME/comments/kxwgmq/gme_keep_dipping_and_so...</td>\n",
              "      <td>NaN</td>\n",
              "      <td>2021-01-15</td>\n",
              "    </tr>\n",
              "    <tr>\n",
              "      <th>83</th>\n",
              "      <td>kxwm8k</td>\n",
              "      <td>DIP BABY DIP. DIP! DIP! DIP!</td>\n",
              "      <td>GME should go down...... to the original price...</td>\n",
              "      <td>https://www.reddit.com/r/GME/comments/kxwm8k/d...</td>\n",
              "      <td>Snafflepagus</td>\n",
              "      <td>0</td>\n",
              "      <td>2021-01-15 15:22:03</td>\n",
              "      <td>7</td>\n",
              "      <td>/r/GME/comments/kxwm8k/dip_baby_dip_dip_dip_dip/</td>\n",
              "      <td>NaN</td>\n",
              "      <td>2021-01-15</td>\n",
              "    </tr>\n",
              "  </tbody>\n",
              "</table>\n",
              "</div>"
            ],
            "text/plain": [
              "   Post ID                                              Title  ... Flair       Date\n",
              "65  kwlfc0  WTF is this dip to punish people who jump on l...  ...   NaN 2021-01-13\n",
              "67  kwtze7                      BUY CALLS FOR JAN 15 or Stock  ...   NaN 2021-01-14\n",
              "75  kxdpvx                             Should I buy more GME?  ...   NaN 2021-01-14\n",
              "82  kxwgmq      GME Keep dipping and someone sold 810k shares  ...   NaN 2021-01-15\n",
              "83  kxwm8k                       DIP BABY DIP. DIP! DIP! DIP!  ...   NaN 2021-01-15\n",
              "\n",
              "[5 rows x 11 columns]"
            ]
          },
          "metadata": {
            "tags": []
          },
          "execution_count": 109
        }
      ]
    },
    {
      "cell_type": "code",
      "metadata": {
        "id": "qAjzsJFPWfeA"
      },
      "source": [
        "gmedaily_filtered_comb = gme_filtered_comb.groupby('Date', as_index=False).count()"
      ],
      "execution_count": 110,
      "outputs": []
    },
    {
      "cell_type": "code",
      "metadata": {
        "colab": {
          "base_uri": "https://localhost:8080/",
          "height": 197
        },
        "id": "W_kKkVpJWfgm",
        "outputId": "fc57206c-fb41-4307-c8a9-85cf70b12c33"
      },
      "source": [
        "gmedaily_filtered_comb.head()"
      ],
      "execution_count": 111,
      "outputs": [
        {
          "output_type": "execute_result",
          "data": {
            "text/html": [
              "<div>\n",
              "<style scoped>\n",
              "    .dataframe tbody tr th:only-of-type {\n",
              "        vertical-align: middle;\n",
              "    }\n",
              "\n",
              "    .dataframe tbody tr th {\n",
              "        vertical-align: top;\n",
              "    }\n",
              "\n",
              "    .dataframe thead th {\n",
              "        text-align: right;\n",
              "    }\n",
              "</style>\n",
              "<table border=\"1\" class=\"dataframe\">\n",
              "  <thead>\n",
              "    <tr style=\"text-align: right;\">\n",
              "      <th></th>\n",
              "      <th>Date</th>\n",
              "      <th>Post ID</th>\n",
              "      <th>Title</th>\n",
              "      <th>selftext</th>\n",
              "      <th>Url</th>\n",
              "      <th>Author</th>\n",
              "      <th>Score</th>\n",
              "      <th>Publish Date</th>\n",
              "      <th>Total No. of Comments</th>\n",
              "      <th>Permalink</th>\n",
              "      <th>Flair</th>\n",
              "    </tr>\n",
              "  </thead>\n",
              "  <tbody>\n",
              "    <tr>\n",
              "      <th>0</th>\n",
              "      <td>2021-01-13</td>\n",
              "      <td>1</td>\n",
              "      <td>1</td>\n",
              "      <td>1</td>\n",
              "      <td>1</td>\n",
              "      <td>1</td>\n",
              "      <td>1</td>\n",
              "      <td>1</td>\n",
              "      <td>1</td>\n",
              "      <td>1</td>\n",
              "      <td>0</td>\n",
              "    </tr>\n",
              "    <tr>\n",
              "      <th>1</th>\n",
              "      <td>2021-01-14</td>\n",
              "      <td>2</td>\n",
              "      <td>2</td>\n",
              "      <td>2</td>\n",
              "      <td>2</td>\n",
              "      <td>2</td>\n",
              "      <td>2</td>\n",
              "      <td>2</td>\n",
              "      <td>2</td>\n",
              "      <td>2</td>\n",
              "      <td>0</td>\n",
              "    </tr>\n",
              "    <tr>\n",
              "      <th>2</th>\n",
              "      <td>2021-01-15</td>\n",
              "      <td>4</td>\n",
              "      <td>4</td>\n",
              "      <td>4</td>\n",
              "      <td>4</td>\n",
              "      <td>4</td>\n",
              "      <td>4</td>\n",
              "      <td>4</td>\n",
              "      <td>4</td>\n",
              "      <td>4</td>\n",
              "      <td>0</td>\n",
              "    </tr>\n",
              "    <tr>\n",
              "      <th>3</th>\n",
              "      <td>2021-01-19</td>\n",
              "      <td>1</td>\n",
              "      <td>1</td>\n",
              "      <td>1</td>\n",
              "      <td>1</td>\n",
              "      <td>1</td>\n",
              "      <td>1</td>\n",
              "      <td>1</td>\n",
              "      <td>1</td>\n",
              "      <td>1</td>\n",
              "      <td>0</td>\n",
              "    </tr>\n",
              "    <tr>\n",
              "      <th>4</th>\n",
              "      <td>2021-01-21</td>\n",
              "      <td>2</td>\n",
              "      <td>2</td>\n",
              "      <td>1</td>\n",
              "      <td>2</td>\n",
              "      <td>2</td>\n",
              "      <td>2</td>\n",
              "      <td>2</td>\n",
              "      <td>2</td>\n",
              "      <td>2</td>\n",
              "      <td>0</td>\n",
              "    </tr>\n",
              "  </tbody>\n",
              "</table>\n",
              "</div>"
            ],
            "text/plain": [
              "        Date  Post ID  Title  ...  Total No. of Comments  Permalink  Flair\n",
              "0 2021-01-13        1      1  ...                      1          1      0\n",
              "1 2021-01-14        2      2  ...                      2          2      0\n",
              "2 2021-01-15        4      4  ...                      4          4      0\n",
              "3 2021-01-19        1      1  ...                      1          1      0\n",
              "4 2021-01-21        2      2  ...                      2          2      0\n",
              "\n",
              "[5 rows x 11 columns]"
            ]
          },
          "metadata": {
            "tags": []
          },
          "execution_count": 111
        }
      ]
    },
    {
      "cell_type": "code",
      "metadata": {
        "colab": {
          "base_uri": "https://localhost:8080/",
          "height": 840
        },
        "id": "df29oLteWfih",
        "outputId": "d6a9ceda-7beb-4ad4-d6c4-8251308a8cac"
      },
      "source": [
        "# Plotting GME posts with \"Buy/Dip\" in the title against the GME stock price.\n",
        "\n",
        "ax = gmedaily_filtered_comb.plot(x='Date', y = 'Post ID', kind = 'line', figsize=(30,15), color = 'blue', label = 'r/GME \"Buy/Dip\" Posts', title = 'r/GME \"Buy/Dip\" Posts vs GME Closing Price')\n",
        "ax2 = gmestock.plot(x='Date', y = 'Close', kind = 'line', figsize=(30,15), color = 'red', label = 'GME Closing Price', ax=ax)\n",
        "\n",
        "ax.set_ylabel('# of Posts Containing \"Buy/Dip\"', color='b')\n",
        "ax2 = ax.twinx()\n",
        "ax2.set_ylabel('GME Closing Price', color='r')\n",
        "ax2.set_ylim(bottom=0, top=500)\n",
        "ax.set_ylim(bottom=0, top=1100)\n",
        "plt.grid()"
      ],
      "execution_count": 125,
      "outputs": [
        {
          "output_type": "display_data",
          "data": {
            "image/png": "[encoded data removed]",
            "text/plain": [
              "<Figure size 2160x1080 with 2 Axes>"
            ]
          },
          "metadata": {
            "tags": [],
            "needs_background": "light"
          }
        }
      ]
    },
    {
      "cell_type": "markdown",
      "metadata": {
        "id": "keG7w6YYYV8Y"
      },
      "source": [
        "**Generating the Count(Buy, Sell & Dip) vs GME Close Price Graph**"
      ]
    },
    {
      "cell_type": "code",
      "metadata": {
        "id": "Yv5Xp8C8YVui"
      },
      "source": [
        "# Filtering the gmedaily_filtered dataframe to only include titles with the word \"Buy\"\n",
        "\n",
        "cols_list = ['Title'] # Target Columns\n",
        "search_values = ['Buy', 'Dip', 'Sell'] # Target Word(s)\n",
        "\n",
        "gme_filtered_comb2 = gme_filtered[gme_filtered[cols_list].stack().str.contains('|'.join(search_values),case=False,na=False).any(level=0)]"
      ],
      "execution_count": 131,
      "outputs": []
    },
    {
      "cell_type": "code",
      "metadata": {
        "colab": {
          "base_uri": "https://localhost:8080/",
          "height": 297
        },
        "id": "O45bvt_cZnK_",
        "outputId": "f1880e1e-2d5d-44f3-9051-45b5c2cd95a3"
      },
      "source": [
        "gme_filtered_comb2.head()"
      ],
      "execution_count": 132,
      "outputs": [
        {
          "output_type": "execute_result",
          "data": {
            "text/html": [
              "<div>\n",
              "<style scoped>\n",
              "    .dataframe tbody tr th:only-of-type {\n",
              "        vertical-align: middle;\n",
              "    }\n",
              "\n",
              "    .dataframe tbody tr th {\n",
              "        vertical-align: top;\n",
              "    }\n",
              "\n",
              "    .dataframe thead th {\n",
              "        text-align: right;\n",
              "    }\n",
              "</style>\n",
              "<table border=\"1\" class=\"dataframe\">\n",
              "  <thead>\n",
              "    <tr style=\"text-align: right;\">\n",
              "      <th></th>\n",
              "      <th>Post ID</th>\n",
              "      <th>Title</th>\n",
              "      <th>selftext</th>\n",
              "      <th>Url</th>\n",
              "      <th>Author</th>\n",
              "      <th>Score</th>\n",
              "      <th>Publish Date</th>\n",
              "      <th>Total No. of Comments</th>\n",
              "      <th>Permalink</th>\n",
              "      <th>Flair</th>\n",
              "      <th>Date</th>\n",
              "    </tr>\n",
              "  </thead>\n",
              "  <tbody>\n",
              "    <tr>\n",
              "      <th>65</th>\n",
              "      <td>kwlfc0</td>\n",
              "      <td>WTF is this dip to punish people who jump on l...</td>\n",
              "      <td>[deleted]</td>\n",
              "      <td>https://v.redd.it/xwe3xfd6y4b61</td>\n",
              "      <td>[deleted]</td>\n",
              "      <td>1</td>\n",
              "      <td>2021-01-13 17:36:13</td>\n",
              "      <td>0</td>\n",
              "      <td>/r/GME/comments/kwlfc0/wtf_is_this_dip_to_puni...</td>\n",
              "      <td>NaN</td>\n",
              "      <td>2021-01-13</td>\n",
              "    </tr>\n",
              "    <tr>\n",
              "      <th>67</th>\n",
              "      <td>kwtze7</td>\n",
              "      <td>BUY CALLS FOR JAN 15 or Stock</td>\n",
              "      <td>Do you think its still going up if I buy at st...</td>\n",
              "      <td>https://www.reddit.com/r/GME/comments/kwtze7/b...</td>\n",
              "      <td>SharpReaps</td>\n",
              "      <td>1</td>\n",
              "      <td>2021-01-14 00:23:28</td>\n",
              "      <td>6</td>\n",
              "      <td>/r/GME/comments/kwtze7/buy_calls_for_jan_15_or...</td>\n",
              "      <td>NaN</td>\n",
              "      <td>2021-01-14</td>\n",
              "    </tr>\n",
              "    <tr>\n",
              "      <th>69</th>\n",
              "      <td>kwvqbc</td>\n",
              "      <td>:) short squeeze not done yet bois don't sell 💎👐</td>\n",
              "      <td>NaN</td>\n",
              "      <td>https://i.redd.it/fw5ajyzdg7b61.jpg</td>\n",
              "      <td>jonastirona</td>\n",
              "      <td>2</td>\n",
              "      <td>2021-01-14 02:01:24</td>\n",
              "      <td>3</td>\n",
              "      <td>/r/GME/comments/kwvqbc/short_squeeze_not_done_...</td>\n",
              "      <td>NaN</td>\n",
              "      <td>2021-01-14</td>\n",
              "    </tr>\n",
              "    <tr>\n",
              "      <th>73</th>\n",
              "      <td>kx6g3k</td>\n",
              "      <td>GME IS A SELL</td>\n",
              "      <td>Cramer said GameStop  (GME)  is not doing too ...</td>\n",
              "      <td>https://www.reddit.com/r/GME/comments/kx6g3k/g...</td>\n",
              "      <td>Snafflepagus</td>\n",
              "      <td>1</td>\n",
              "      <td>2021-01-14 14:17:27</td>\n",
              "      <td>7</td>\n",
              "      <td>/r/GME/comments/kx6g3k/gme_is_a_sell/</td>\n",
              "      <td>NaN</td>\n",
              "      <td>2021-01-14</td>\n",
              "    </tr>\n",
              "    <tr>\n",
              "      <th>75</th>\n",
              "      <td>kxdpvx</td>\n",
              "      <td>Should I buy more GME?</td>\n",
              "      <td>I bought 10 shares of GME when it was at $17 i...</td>\n",
              "      <td>https://www.reddit.com/r/GME/comments/kxdpvx/s...</td>\n",
              "      <td>jonastirona</td>\n",
              "      <td>1</td>\n",
              "      <td>2021-01-14 20:13:50</td>\n",
              "      <td>18</td>\n",
              "      <td>/r/GME/comments/kxdpvx/should_i_buy_more_gme/</td>\n",
              "      <td>NaN</td>\n",
              "      <td>2021-01-14</td>\n",
              "    </tr>\n",
              "  </tbody>\n",
              "</table>\n",
              "</div>"
            ],
            "text/plain": [
              "   Post ID                                              Title  ... Flair       Date\n",
              "65  kwlfc0  WTF is this dip to punish people who jump on l...  ...   NaN 2021-01-13\n",
              "67  kwtze7                      BUY CALLS FOR JAN 15 or Stock  ...   NaN 2021-01-14\n",
              "69  kwvqbc   :) short squeeze not done yet bois don't sell 💎👐  ...   NaN 2021-01-14\n",
              "73  kx6g3k                                      GME IS A SELL  ...   NaN 2021-01-14\n",
              "75  kxdpvx                             Should I buy more GME?  ...   NaN 2021-01-14\n",
              "\n",
              "[5 rows x 11 columns]"
            ]
          },
          "metadata": {
            "tags": []
          },
          "execution_count": 132
        }
      ]
    },
    {
      "cell_type": "code",
      "metadata": {
        "id": "AHymr-noZoLH"
      },
      "source": [
        "gmedaily_filtered_comb2 = gme_filtered_comb2.groupby('Date', as_index=False).count()"
      ],
      "execution_count": 133,
      "outputs": []
    },
    {
      "cell_type": "code",
      "metadata": {
        "colab": {
          "base_uri": "https://localhost:8080/",
          "height": 197
        },
        "id": "y5wlk74KZoQ2",
        "outputId": "b51bcaa9-b18d-443a-b036-fc478ac614e1"
      },
      "source": [
        "gmedaily_filtered_comb2.head()"
      ],
      "execution_count": 134,
      "outputs": [
        {
          "output_type": "execute_result",
          "data": {
            "text/html": [
              "<div>\n",
              "<style scoped>\n",
              "    .dataframe tbody tr th:only-of-type {\n",
              "        vertical-align: middle;\n",
              "    }\n",
              "\n",
              "    .dataframe tbody tr th {\n",
              "        vertical-align: top;\n",
              "    }\n",
              "\n",
              "    .dataframe thead th {\n",
              "        text-align: right;\n",
              "    }\n",
              "</style>\n",
              "<table border=\"1\" class=\"dataframe\">\n",
              "  <thead>\n",
              "    <tr style=\"text-align: right;\">\n",
              "      <th></th>\n",
              "      <th>Date</th>\n",
              "      <th>Post ID</th>\n",
              "      <th>Title</th>\n",
              "      <th>selftext</th>\n",
              "      <th>Url</th>\n",
              "      <th>Author</th>\n",
              "      <th>Score</th>\n",
              "      <th>Publish Date</th>\n",
              "      <th>Total No. of Comments</th>\n",
              "      <th>Permalink</th>\n",
              "      <th>Flair</th>\n",
              "    </tr>\n",
              "  </thead>\n",
              "  <tbody>\n",
              "    <tr>\n",
              "      <th>0</th>\n",
              "      <td>2021-01-13</td>\n",
              "      <td>1</td>\n",
              "      <td>1</td>\n",
              "      <td>1</td>\n",
              "      <td>1</td>\n",
              "      <td>1</td>\n",
              "      <td>1</td>\n",
              "      <td>1</td>\n",
              "      <td>1</td>\n",
              "      <td>1</td>\n",
              "      <td>0</td>\n",
              "    </tr>\n",
              "    <tr>\n",
              "      <th>1</th>\n",
              "      <td>2021-01-14</td>\n",
              "      <td>4</td>\n",
              "      <td>4</td>\n",
              "      <td>3</td>\n",
              "      <td>4</td>\n",
              "      <td>4</td>\n",
              "      <td>4</td>\n",
              "      <td>4</td>\n",
              "      <td>4</td>\n",
              "      <td>4</td>\n",
              "      <td>0</td>\n",
              "    </tr>\n",
              "    <tr>\n",
              "      <th>2</th>\n",
              "      <td>2021-01-15</td>\n",
              "      <td>4</td>\n",
              "      <td>4</td>\n",
              "      <td>4</td>\n",
              "      <td>4</td>\n",
              "      <td>4</td>\n",
              "      <td>4</td>\n",
              "      <td>4</td>\n",
              "      <td>4</td>\n",
              "      <td>4</td>\n",
              "      <td>0</td>\n",
              "    </tr>\n",
              "    <tr>\n",
              "      <th>3</th>\n",
              "      <td>2021-01-16</td>\n",
              "      <td>1</td>\n",
              "      <td>1</td>\n",
              "      <td>1</td>\n",
              "      <td>1</td>\n",
              "      <td>1</td>\n",
              "      <td>1</td>\n",
              "      <td>1</td>\n",
              "      <td>1</td>\n",
              "      <td>1</td>\n",
              "      <td>0</td>\n",
              "    </tr>\n",
              "    <tr>\n",
              "      <th>4</th>\n",
              "      <td>2021-01-18</td>\n",
              "      <td>1</td>\n",
              "      <td>1</td>\n",
              "      <td>1</td>\n",
              "      <td>1</td>\n",
              "      <td>1</td>\n",
              "      <td>1</td>\n",
              "      <td>1</td>\n",
              "      <td>1</td>\n",
              "      <td>1</td>\n",
              "      <td>0</td>\n",
              "    </tr>\n",
              "  </tbody>\n",
              "</table>\n",
              "</div>"
            ],
            "text/plain": [
              "        Date  Post ID  Title  ...  Total No. of Comments  Permalink  Flair\n",
              "0 2021-01-13        1      1  ...                      1          1      0\n",
              "1 2021-01-14        4      4  ...                      4          4      0\n",
              "2 2021-01-15        4      4  ...                      4          4      0\n",
              "3 2021-01-16        1      1  ...                      1          1      0\n",
              "4 2021-01-18        1      1  ...                      1          1      0\n",
              "\n",
              "[5 rows x 11 columns]"
            ]
          },
          "metadata": {
            "tags": []
          },
          "execution_count": 134
        }
      ]
    },
    {
      "cell_type": "code",
      "metadata": {
        "colab": {
          "base_uri": "https://localhost:8080/",
          "height": 840
        },
        "id": "Cg4izMhuZoU6",
        "outputId": "5bc6849e-f96a-452d-bfaa-1d44bd24e8c0"
      },
      "source": [
        "# Plotting GME posts with \"Buy/Dip/Sell\" in the title against the GME stock price.\n",
        "\n",
        "ax = gmedaily_filtered_comb2.plot(x='Date', y = 'Post ID', kind = 'line', figsize=(30,15), color = 'blue', label = 'r/GME \"Buy/Dip/Sell\" Posts', title = 'r/GME \"Buy/Dip/Sell\" Posts vs GME Closing Price')\n",
        "ax2 = gmestock.plot(x='Date', y = 'Close', kind = 'line', figsize=(30,15), color = 'red', label = 'GME Closing Price', ax=ax)\n",
        "\n",
        "ax.set_ylabel('# of Posts Containing \"Buy/Dip/Sell\"', color='b')\n",
        "ax2 = ax.twinx()\n",
        "ax2.set_ylabel('GME Closing Price', color='r')\n",
        "ax2.set_ylim(bottom=0, top=500)\n",
        "ax.set_ylim(bottom=0, top=1500)\n",
        "plt.grid()"
      ],
      "execution_count": 137,
      "outputs": [
        {
          "output_type": "display_data",
          "data": {
            "image/png": "[encoded data removed]",
            "text/plain": [
              "<Figure size 2160x1080 with 2 Axes>"
            ]
          },
          "metadata": {
            "tags": [],
            "needs_background": "light"
          }
        }
      ]
    },
    {
      "cell_type": "markdown",
      "metadata": {
        "id": "SCFn9BMkaaat"
      },
      "source": [
        "**Predictive Modeling Time (Hopefully)**"
      ]
    },
    {
      "cell_type": "markdown",
      "metadata": {
        "id": "bzA06kNzy3RA"
      },
      "source": [
        "Time Lagged Cross Correlation"
      ]
    },
    {
      "cell_type": "markdown",
      "metadata": {
        "id": "6rVAMl5nDEl8"
      },
      "source": [
        "To be explored later, few actionable insights garnered"
      ]
    },
    {
      "cell_type": "code",
      "metadata": {
        "id": "fDlNM8uf4Bj6"
      },
      "source": [
        "def crosscorr(datax, datay, lag=0):\n",
        "    \"\"\" Lag-N cross correlation. \n",
        "    Parameters\n",
        "    ----------\n",
        "    lag : int, default 0\n",
        "    datax, datay : pandas.Series objects of equal length\n",
        "\n",
        "    Returns\n",
        "    ----------\n",
        "    crosscorr : float\n",
        "    \"\"\"\n",
        "    return datax.corr(datay.shift(lag))"
      ],
      "execution_count": 212,
      "outputs": []
    },
    {
      "cell_type": "code",
      "metadata": {
        "id": "0nDbVMbT4BmI"
      },
      "source": [
        "datax = gmedaily_filtered['Post ID']\n",
        "datay = gmestock['Close']\n",
        "\n",
        "xcov_monthly = [crosscorr(datax, datay, lag=i) for i in range(12)]"
      ],
      "execution_count": 240,
      "outputs": []
    },
    {
      "cell_type": "code",
      "metadata": {
        "colab": {
          "base_uri": "https://localhost:8080/"
        },
        "id": "LFpeHk_y4ykG",
        "outputId": "0129d2cc-481e-40e9-fd85-0a5a0f4e358d"
      },
      "source": [
        "xcov_monthly"
      ],
      "execution_count": 241,
      "outputs": [
        {
          "output_type": "execute_result",
          "data": {
            "text/plain": [
              "[-0.4452456654811347,\n",
              " -0.4642139305573305,\n",
              " -0.4359981425468699,\n",
              " -0.4179747904139276,\n",
              " -0.4533099826423808,\n",
              " -0.42118154815991954,\n",
              " -0.49459251577180213,\n",
              " -0.5444201855106502,\n",
              " -0.5228018711801343,\n",
              " -0.47294150685930353,\n",
              " -0.42151548175185594,\n",
              " -0.3781687014842847]"
            ]
          },
          "metadata": {
            "tags": []
          },
          "execution_count": 241
        }
      ]
    }
  ]
}